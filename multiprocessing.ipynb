{
 "cells": [
  {
   "cell_type": "code",
   "execution_count": 2,
   "id": "56fcf8d2-5862-4de7-95d9-27ba7e6e6b9f",
   "metadata": {},
   "outputs": [
    {
     "name": "stdout",
     "output_type": "stream",
     "text": [
      "this is my main programme\n",
      "this is my multi processing programme\n"
     ]
    }
   ],
   "source": [
    "import multiprocessing\n",
    "def test():\n",
    "    print(\"this is my multi processing programme\")\n",
    "if __name__== \"__main__\":\n",
    "    m = multiprocessing.Process(target=test)\n",
    "    print(\"this is my main programme\")\n",
    "    m.start()\n",
    "    m.join()"
   ]
  },
  {
   "cell_type": "code",
   "execution_count": 16,
   "id": "3e79f9e0-67e9-44f9-b61f-7caddb909da9",
   "metadata": {},
   "outputs": [
    {
     "name": "stdout",
     "output_type": "stream",
     "text": [
      "this is my multi processing programme\n"
     ]
    }
   ],
   "source": [
    "test()"
   ]
  },
  {
   "cell_type": "code",
   "execution_count": 3,
   "id": "84495889-5cb8-4bea-8ad2-f6d10ccfdb83",
   "metadata": {},
   "outputs": [
    {
     "name": "stdout",
     "output_type": "stream",
     "text": [
      "[1, 4, 9, 16, 25, 36, 36, 7225, 16]\n"
     ]
    }
   ],
   "source": [
    "def squre(n):\n",
    "    return n**2\n",
    "if __name__==\"__main__\":\n",
    "    with multiprocessing.Pool(processes=5) as pool:\n",
    "        out=pool.map(squre,[1,2,3,4,5,6,6,85,4])\n",
    "        print(out)"
   ]
  },
  {
   "cell_type": "code",
   "execution_count": 2,
   "id": "3125ae92-4f57-4a58-b20a-7d77f5ff526e",
   "metadata": {},
   "outputs": [
    {
     "name": "stdout",
     "output_type": "stream",
     "text": [
      "sudh\n",
      "kumar\n",
      "pwskills\n",
      "krish\n",
      "nair\n",
      "xyz\n"
     ]
    }
   ],
   "source": [
    "import multiprocessing\n",
    "\n",
    "def producer(q):\n",
    "    for i in ['sudh','kumar','pwskills','krish','nair']:\n",
    "        q.put(i)\n",
    "def consumer(q):\n",
    "    while True:\n",
    "        item=q.get()\n",
    "        if item is None:\n",
    "            break\n",
    "        print(item)\n",
    "if __name__==\"__main__\":\n",
    "    queue=multiprocessing.Queue()\n",
    "    m1=multiprocessing.Process(target=producer, args=(queue,))\n",
    "    m2=multiprocessing.Process(target=consumer,args=(queue,))\n",
    "    m1.start()\n",
    "    m2.start()\n",
    "    queue.put('xyz')\n",
    "    m1.join\n",
    "    m2.join\n",
    "    "
   ]
  },
  {
   "cell_type": "code",
   "execution_count": 1,
   "id": "a5b2d59e-e031-4555-9f5a-9513a0687aa5",
   "metadata": {},
   "outputs": [
    {
     "ename": "SyntaxError",
     "evalue": "cannot assign to function call here. Maybe you meant '==' instead of '='? (3857680126.py, line 5)",
     "output_type": "error",
     "traceback": [
      "\u001b[0;36m  Cell \u001b[0;32mIn[1], line 5\u001b[0;36m\u001b[0m\n\u001b[0;31m    value(index) = value(index)**2\u001b[0m\n\u001b[0m    ^\u001b[0m\n\u001b[0;31mSyntaxError\u001b[0m\u001b[0;31m:\u001b[0m cannot assign to function call here. Maybe you meant '==' instead of '='?\n"
     ]
    }
   ],
   "source": [
    "import multiprocessing\n",
    "\n",
    "def squre(index,value):\n",
    "    \n",
    "    value(index) = value(index)**2\n",
    "if __name__==\"__main__\":\n",
    "    \n",
    "    arr=multiprocessing.Array('i',[2,3,4,45,5,54,8,4,5,])\n",
    "    process=[]\n",
    "    for i in range(10):\n",
    "        m=multiprocessing.Process(target=squre,args=(i,arr))\n",
    "        process.append(m)\n",
    "        m.start()\n",
    "        for m in process:\n",
    "            \n",
    "            m.join()\n",
    "            print(list(arr))\n",
    "\n"
   ]
  },
  {
   "cell_type": "code",
   "execution_count": null,
   "id": "13c71b14-03a5-4cb2-a9d6-b57ce888e776",
   "metadata": {},
   "outputs": [
    {
     "name": "stdout",
     "output_type": "stream",
     "text": [
      "hi students\n",
      "study hard for vengence\n",
      "i am vengenve\n",
      "i am ironman\n"
     ]
    }
   ],
   "source": [
    "import multiprocessing\n",
    "def sender(conn,msg):\n",
    "    for i in msg:\n",
    "        conn.send(i)\n",
    "    conn.close()\n",
    "def receiver(conn):\n",
    "        while True:\n",
    "            try:\n",
    "                msg=conn.recv()\n",
    "            except Exception as e:\n",
    "                print(e)\n",
    "                break\n",
    "            print(msg)\n",
    "if __name__==\"__main__\":\n",
    "    msg=[\"hi students\",\"study hard for vengence\",\"i am vengenve\",\"i am ironman\"]\n",
    "    parent_cls,child_cls=multiprocessing.Pipe()\n",
    "    m1=multiprocessing.Process(target=sender,args=(parent_cls,msg))\n",
    "    m2=multiprocessing.Process(target=receiver,args=(child_cls,))\n",
    "    m1.start()\n",
    "    m2.start()\n",
    "    m1.join()\n",
    "    parent_cls.close()\n",
    "    m2.join()\n",
    "    child_cls.close()\n",
    "    \n",
    "    \n",
    "\n",
    "                \n",
    "            \n",
    "            \n"
   ]
  },
  {
   "cell_type": "code",
   "execution_count": null,
   "id": "5026b074-4a84-46af-b7d1-49bd11971fa1",
   "metadata": {},
   "outputs": [],
   "source": []
  }
 ],
 "metadata": {
  "kernelspec": {
   "display_name": "Python 3 (ipykernel)",
   "language": "python",
   "name": "python3"
  },
  "language_info": {
   "codemirror_mode": {
    "name": "ipython",
    "version": 3
   },
   "file_extension": ".py",
   "mimetype": "text/x-python",
   "name": "python",
   "nbconvert_exporter": "python",
   "pygments_lexer": "ipython3",
   "version": "3.10.8"
  }
 },
 "nbformat": 4,
 "nbformat_minor": 5
}
