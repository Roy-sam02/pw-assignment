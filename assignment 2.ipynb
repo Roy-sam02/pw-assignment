{
 "cells": [
  {
   "cell_type": "markdown",
   "id": "0a7826bf-2f47-4f9f-9784-f57cf09147d0",
   "metadata": {
    "tags": []
   },
   "source": [
    "# 1.How do you comment code in Python? What are the different types of comments?"
   ]
  },
  {
   "cell_type": "markdown",
   "id": "f2ae520f-175e-4a16-a7d2-7f9b4801d93c",
   "metadata": {},
   "source": [
    "In python to comment the '#' sign is used in general for one line comments."
   ]
  },
  {
   "cell_type": "code",
   "execution_count": 1,
   "id": "bae1cfe8-0e81-489a-8565-095514e6af8c",
   "metadata": {},
   "outputs": [
    {
     "name": "stdout",
     "output_type": "stream",
     "text": [
      "hellow world\n"
     ]
    }
   ],
   "source": [
    "print('hellow world')  # this is a comment"
   ]
  },
  {
   "cell_type": "markdown",
   "id": "5442d066-3b26-4627-970e-045f05815dd6",
   "metadata": {},
   "source": [
    "There are to type of comment in python 1. one line comment and 2.Multi line comments.\n",
    "\n",
    "for multilines comments we use (' \"\"\" ').multiline comments is generally used to give a small description about the perpous of the code"
   ]
  },
  {
   "cell_type": "code",
   "execution_count": 6,
   "id": "085ac439-ef30-4d67-a351-3a6711619b17",
   "metadata": {},
   "outputs": [
    {
     "name": "stdin",
     "output_type": "stream",
     "text": [
      " 5\n",
      " 4\n"
     ]
    },
    {
     "name": "stdout",
     "output_type": "stream",
     "text": [
      "9\n"
     ]
    },
    {
     "data": {
      "text/plain": [
       "' here the code is used for the sum of two intigers\\nwhre a and b can be chosed by users to do the sum\\n'"
      ]
     },
     "execution_count": 6,
     "metadata": {},
     "output_type": "execute_result"
    }
   ],
   "source": [
    "a=int(input())\n",
    "b=int(input())\n",
    "sum = a+b\n",
    "print(sum)\n",
    "\"\"\" here the code is used for the sum of two intigers\n",
    "whre a and b can be chosed by users to do the sum\"\"\"\n"
   ]
  },
  {
   "cell_type": "markdown",
   "id": "173e6a74-3a4d-415b-a469-4d92db544201",
   "metadata": {},
   "source": [
    "# What are variables in Python? How do you declare and assign values to variables?"
   ]
  },
  {
   "cell_type": "markdown",
   "id": "f213447a-73fb-4119-b46e-11fa7cb23cd2",
   "metadata": {},
   "source": [
    "In python variables are uesd to store a data which you can use through oyt your entire code. So in short variables are like a container which can store different kind of value"
   ]
  },
  {
   "cell_type": "markdown",
   "id": "bc770b3c-0d03-45f2-8f0c-f8cf3b2f3f29",
   "metadata": {},
   "source": [
    "In python to declair a variable you simply have to define a name for the variable and have to use \"=\" to define a variable."
   ]
  },
  {
   "cell_type": "code",
   "execution_count": 7,
   "id": "a0ef9638-d507-4231-9283-48fcfe596dd8",
   "metadata": {},
   "outputs": [
    {
     "name": "stdout",
     "output_type": "stream",
     "text": [
      "hellow python\n"
     ]
    }
   ],
   "source": [
    "#Heres how a variable is defined and used\n",
    "\n",
    "greetings= 'hellow python'\n",
    "print(greetings) #here greetings is a variable"
   ]
  },
  {
   "cell_type": "markdown",
   "id": "073997f3-706e-45c6-afb7-d76fb2bcb4cd",
   "metadata": {},
   "source": [
    "# How do you convert one data type to another in Python?"
   ]
  },
  {
   "cell_type": "markdown",
   "id": "db406ec8-ad67-46e2-a193-7cc5190cbe5a",
   "metadata": {},
   "source": [
    "In python you can convert one data type to another data type by using convertion process"
   ]
  },
  {
   "cell_type": "code",
   "execution_count": 8,
   "id": "ba84f1b6-3f80-4326-a77c-655e6a47dc5f",
   "metadata": {},
   "outputs": [],
   "source": [
    "number = int('10') # converting string to int data type"
   ]
  },
  {
   "cell_type": "code",
   "execution_count": 9,
   "id": "503941d9-a926-4298-9f2b-602bc43f2fbc",
   "metadata": {},
   "outputs": [],
   "source": [
    "points = float('3.14') #converting string to float data type\n"
   ]
  },
  {
   "cell_type": "code",
   "execution_count": 10,
   "id": "bd2db59d-470b-4df9-8695-e785001260e8",
   "metadata": {},
   "outputs": [],
   "source": [
    "statement = str(10) #converting string to string data type"
   ]
  },
  {
   "cell_type": "code",
   "execution_count": 12,
   "id": "ee120179-5d1e-4a12-b4bc-c39834ddb971",
   "metadata": {},
   "outputs": [],
   "source": [
    "lst = list('hellow')"
   ]
  },
  {
   "cell_type": "code",
   "execution_count": 13,
   "id": "637adb71-a6f6-47ff-8416-077fa047d75b",
   "metadata": {},
   "outputs": [],
   "source": [
    "Tuple = tuple([1, 2, 3])\n",
    "Set = set([1, 2, 3])"
   ]
  },
  {
   "cell_type": "code",
   "execution_count": 14,
   "id": "1fcb6d8e-cc1e-4216-b54b-b7f69257a007",
   "metadata": {},
   "outputs": [],
   "source": [
    "Boolian = bool(1)"
   ]
  },
  {
   "cell_type": "markdown",
   "id": "7dc7e41f-f0ff-4235-931d-734b8071f53c",
   "metadata": {},
   "source": [
    "# Given a list my_list = [1, 2, 3, 4, 5], write the code to slice the list and obtain the sub-list [2, 3"
   ]
  },
  {
   "cell_type": "code",
   "execution_count": 15,
   "id": "17405a2b-d880-48e1-84ae-00e63cda9049",
   "metadata": {},
   "outputs": [],
   "source": [
    "my_list=[1,2,3,4]"
   ]
  },
  {
   "cell_type": "code",
   "execution_count": 21,
   "id": "58f6fe0e-980b-4d95-ada2-df187ec68dda",
   "metadata": {},
   "outputs": [],
   "source": [
    "sub_list=my_list[1:3]"
   ]
  },
  {
   "cell_type": "code",
   "execution_count": 22,
   "id": "6f07aa8a-fd39-4c35-82a9-c1e4370b4bad",
   "metadata": {},
   "outputs": [
    {
     "name": "stdout",
     "output_type": "stream",
     "text": [
      "[2, 3]\n"
     ]
    }
   ],
   "source": [
    "print(sub_list)"
   ]
  },
  {
   "cell_type": "markdown",
   "id": "7c7f2466-5672-4478-a08c-cc44fad77764",
   "metadata": {},
   "source": [
    "# What is a complex number in mathematics"
   ]
  },
  {
   "cell_type": "markdown",
   "id": "d78f74b3-3228-43fd-aa9c-b5dbcf931a53",
   "metadata": {},
   "source": [
    "In mathametics a complex number is a number which has both has real and imaginary part . It generally denoted by 'a+bi' where a represents \n",
    "real part and b represents imaginary part."
   ]
  },
  {
   "cell_type": "markdown",
   "id": "52e9c154-793f-43c3-a35d-304a7eee22df",
   "metadata": {},
   "source": [
    "In python its denoted by a+bj whre a= real and b = imainary"
   ]
  },
  {
   "cell_type": "code",
   "execution_count": 23,
   "id": "643fbaf4-1f8e-47ab-95d1-4a699206dcbf",
   "metadata": {},
   "outputs": [],
   "source": [
    "math = 5+7j"
   ]
  },
  {
   "cell_type": "code",
   "execution_count": 24,
   "id": "4f2e65ae-b65b-4c0a-af37-c2d6e83072c6",
   "metadata": {},
   "outputs": [
    {
     "data": {
      "text/plain": [
       "complex"
      ]
     },
     "execution_count": 24,
     "metadata": {},
     "output_type": "execute_result"
    }
   ],
   "source": [
    "type(math)"
   ]
  },
  {
   "cell_type": "markdown",
   "id": "2a3a968f-d022-42af-a4b9-54c163c77f70",
   "metadata": {},
   "source": [
    " # What is the correct way to declare a variable named age and assign the value 25 to it?"
   ]
  },
  {
   "cell_type": "code",
   "execution_count": 25,
   "id": "a25403f6-10b0-4bf7-8435-6df0a984d3c4",
   "metadata": {},
   "outputs": [],
   "source": [
    "#in python the correct way is \n",
    "age = 25"
   ]
  },
  {
   "cell_type": "markdown",
   "id": "01880f3a-060c-465b-a05f-3dc4a88a2287",
   "metadata": {},
   "source": [
    "#  Declare a variable named price and assign the value 9.99 to it. What data type does this variable belong to?\n"
   ]
  },
  {
   "cell_type": "code",
   "execution_count": 26,
   "id": "f33a69c1-ec16-45da-99db-9bf135bb730c",
   "metadata": {},
   "outputs": [],
   "source": [
    "price = 9.99"
   ]
  },
  {
   "cell_type": "code",
   "execution_count": 27,
   "id": "d6f9b252-a691-45df-b759-ce8d2efa2126",
   "metadata": {},
   "outputs": [
    {
     "data": {
      "text/plain": [
       "float"
      ]
     },
     "execution_count": 27,
     "metadata": {},
     "output_type": "execute_result"
    }
   ],
   "source": [
    "type(price)  # it belongs to float data type"
   ]
  },
  {
   "cell_type": "markdown",
   "id": "37d39932-5036-4eb0-82ae-412c93920f31",
   "metadata": {},
   "source": [
    "# Create a variable named name and assign your full name to it as a string. How would you print the value of this variable?\n",
    "\n",
    "\n"
   ]
  },
  {
   "cell_type": "code",
   "execution_count": 31,
   "id": "31523dfe-77ab-4d93-b4d1-0b1ce7e6497a",
   "metadata": {},
   "outputs": [
    {
     "name": "stdout",
     "output_type": "stream",
     "text": [
      "Soumyadeep Roy\n"
     ]
    },
    {
     "data": {
      "text/plain": [
       "str"
      ]
     },
     "execution_count": 31,
     "metadata": {},
     "output_type": "execute_result"
    }
   ],
   "source": [
    "name = \"Soumyadeep Roy\"\n",
    "print(name)\n",
    "type(name)"
   ]
  },
  {
   "cell_type": "markdown",
   "id": "3f11cadf-d777-435d-a4dd-ceb4c5250241",
   "metadata": {},
   "source": [
    " # Given the string \"Hello, World!\", extract the substring \"World\"."
   ]
  },
  {
   "cell_type": "code",
   "execution_count": 32,
   "id": "e09ae944-814c-4e36-9876-79382d0c6bff",
   "metadata": {},
   "outputs": [],
   "source": [
    "python = \"hellow, world\""
   ]
  },
  {
   "cell_type": "code",
   "execution_count": 33,
   "id": "717a1305-0fee-4976-9744-80a1d01770c8",
   "metadata": {},
   "outputs": [],
   "source": [
    "sub_string=python[8:13]"
   ]
  },
  {
   "cell_type": "code",
   "execution_count": 35,
   "id": "2f4b9b85-8a1c-4cd2-9ee2-56003fc96c4d",
   "metadata": {},
   "outputs": [
    {
     "name": "stdout",
     "output_type": "stream",
     "text": [
      "world\n"
     ]
    }
   ],
   "source": [
    "print(sub_string)"
   ]
  },
  {
   "cell_type": "markdown",
   "id": "5c16e0be-a3d5-480b-bb42-8b763749b882",
   "metadata": {},
   "source": [
    "# Create a variable named \"is_student\" and assign it a boolean value indicating whether you are currently a student or not.\n"
   ]
  },
  {
   "cell_type": "code",
   "execution_count": 36,
   "id": "24c4d2e4-bd1d-4246-8f92-9412d6494af9",
   "metadata": {},
   "outputs": [],
   "source": [
    "is_student= True # when i am a student"
   ]
  },
  {
   "cell_type": "code",
   "execution_count": 37,
   "id": "0b54ef07-a973-4ea4-9f00-a838de19e2a8",
   "metadata": {},
   "outputs": [],
   "source": [
    "is_student= False #when i am not a student"
   ]
  },
  {
   "cell_type": "markdown",
   "id": "80da76ab-3519-4170-92a0-652aa23b3dd7",
   "metadata": {},
   "source": []
  },
  {
   "cell_type": "code",
   "execution_count": null,
   "id": "7559c662-136e-4a17-a264-ba4cae8da708",
   "metadata": {},
   "outputs": [],
   "source": [
    "Q4. How do you write and execute a Python script from the command line?"
   ]
  },
  {
   "cell_type": "code",
   "execution_count": null,
   "id": "a98a4953-1785-4859-b5b3-b443a81990fe",
   "metadata": {},
   "outputs": [],
   "source": [
    "Open a text editor and create a new file. You can use any text editor of your choice, such as Notepad, Sublime Text, Atom, or Visual Studio Code.\n",
    "\n",
    "Write your Python script in the text editor. For example, let's say you want to create a script that prints \"Hello, World!\":\n",
    "\n",
    "python\n",
    "\n",
    "print(\"Hello, World!\")\n",
    "Save the file with a .py extension. For example, you can save it as hello.py. Make sure to remember the location where you saved the file.\n",
    "\n",
    "Open the command prompt or terminal on your operating system.\n",
    "\n",
    "Navigate to the directory where you saved the Python script using the cd command. For example, if the script is saved on the desktop, you can navigate to the desktop by using the following command dows):\n",
    "\n",
    "\n",
    "cd C:\\Users\\YourUsername\\Desktop\n",
    "\n",
    "Replace YourUsername with your actual username.\n",
    "\n",
    "Once you are in the correct directory, you can execute the Python script by typing python followed by the script filename. For example:\n",
    "\n",
    "python hello.py\n",
    "This command will run the Python interpreter and execute the script you wrote. In this case, it will print \"Hello, World!\" to the console.v"
   ]
  },
  {
   "cell_type": "code",
   "execution_count": null,
   "id": "4c381c2c-f8e0-46bf-a6df-d87d2208cd4f",
   "metadata": {},
   "outputs": [],
   "source": []
  }
 ],
 "metadata": {
  "kernelspec": {
   "display_name": "Python 3 (ipykernel)",
   "language": "python",
   "name": "python3"
  },
  "language_info": {
   "codemirror_mode": {
    "name": "ipython",
    "version": 3
   },
   "file_extension": ".py",
   "mimetype": "text/x-python",
   "name": "python",
   "nbconvert_exporter": "python",
   "pygments_lexer": "ipython3",
   "version": "3.10.8"
  }
 },
 "nbformat": 4,
 "nbformat_minor": 5
}
