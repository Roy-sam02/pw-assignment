{
 "cells": [
  {
   "cell_type": "markdown",
   "id": "e994b3eb-5f3e-45b1-a347-4e009f5ce414",
   "metadata": {},
   "source": [
    "Q1. Wh\n",
    "t is\n",
    "n Ex,eption in p\n",
    "\n",
    "thon? Write the differen,e etween Ex,eptions\n",
    "nd $\n",
    "nt\n",
    "x errors"
   ]
  },
  {
   "cell_type": "markdown",
   "id": "d8d4d657-3258-445f-8b60-565b284a649b",
   "metadata": {},
   "source": [
    "In python exception is a situation which occurs during the execution of a progtramme which disrupt the ordered flow of the programmer.When a  exception situation occurs,such as an eroor or wrong code typing pythons raises an exception.This exception can be caught and corrected by programme ansd necessary steps can be taken againsty to to maintain the flow of the code"
   ]
  },
  {
   "cell_type": "markdown",
   "id": "045eeb8a-c03a-4d69-898f-3c1598ed5d17",
   "metadata": {},
   "source": [
    "Syntax Error: Syntax errors occur when the Python interpreter encounters code that violates the language's syntax rules. These errors are typically caused by typos, missing or misplaced punctuation, or incorrect usage of keywords or operators. Syntax errors prevent the code from being parsed and compiled by the interpreter.\n",
    "\n",
    "Exception: Exceptions occur during the execution of a program when an error or unexpected condition is encountered. Exceptions can be caused by various factors, such as invalid input, arithmetic errors, file access problems, or other exceptional conditions defined by the program."
   ]
  },
  {
   "cell_type": "markdown",
   "id": "27415b7a-c7ae-4977-8eaf-9d599c687f6e",
   "metadata": {},
   "source": [
    "Q3. In python Try_except statements helps and handle the exception. In try statements there are codes that might raise an exception and the except statement helps to show that how the exception might have oocured"
   ]
  },
  {
   "cell_type": "code",
   "execution_count": 6,
   "id": "b8450607-e303-4b99-b988-2e2e9e8afde3",
   "metadata": {},
   "outputs": [
    {
     "name": "stdin",
     "output_type": "stream",
     "text": [
      "enter a value of x  5\n"
     ]
    },
    {
     "name": "stdout",
     "output_type": "stream",
     "text": [
      "ther are no error in the code\n",
      "this will execude no matter there are exception or not\n"
     ]
    }
   ],
   "source": [
    "try:\n",
    "    x=int(input(\"enter a value of x \"))\n",
    "    result=10/x\n",
    "except ZeroDivisionError as e:\n",
    "    print(e)\n",
    "except Error as e:\n",
    "    print(\"there is something rong with my code:\".str(e))\n",
    "except ValueError as e:\n",
    "    print(e)\n",
    "else:\n",
    "    print(\"ther are no error in the code\")\n",
    "finally:\n",
    "    print(\"this will execude no matter there are exception or not\")"
   ]
  },
  {
   "cell_type": "markdown",
   "id": "9909a042-9166-4a40-8a2e-7f94325dd0fc",
   "metadata": {},
   "source": [
    "4"
   ]
  },
  {
   "cell_type": "code",
   "execution_count": 8,
   "id": "745b1662-3b71-45cd-a441-d7edf35551f4",
   "metadata": {},
   "outputs": [
    {
     "name": "stdin",
     "output_type": "stream",
     "text": [
      "enter a value of x  20\n"
     ]
    },
    {
     "name": "stdout",
     "output_type": "stream",
     "text": [
      "ther are no error in the code\n"
     ]
    }
   ],
   "source": [
    "try:\n",
    "    \n",
    "    x=int(input(\"enter a value of x \"))\n",
    "    result=10/x\n",
    "except ZeroDivisionError as e:\n",
    "    print(e)\n",
    "except ValueError as e:\n",
    "    print(e)\n",
    "else:\n",
    "    print(\"ther are no error in the code\")"
   ]
  },
  {
   "cell_type": "code",
   "execution_count": 14,
   "id": "fdf25d9d-2cd2-4896-9d45-433f1df22f82",
   "metadata": {},
   "outputs": [
    {
     "name": "stdout",
     "output_type": "stream",
     "text": [
      "[Errno 2] No such file or directory: 'test.txttt'\n"
     ]
    },
    {
     "ename": "NameError",
     "evalue": "name 'file' is not defined",
     "output_type": "error",
     "traceback": [
      "\u001b[0;31m---------------------------------------------------------------------------\u001b[0m",
      "\u001b[0;31mNameError\u001b[0m                                 Traceback (most recent call last)",
      "Cell \u001b[0;32mIn[14], line 7\u001b[0m\n\u001b[1;32m      5\u001b[0m     \u001b[38;5;28mprint\u001b[39m(e)\n\u001b[1;32m      6\u001b[0m \u001b[38;5;28;01mfinally\u001b[39;00m :\n\u001b[0;32m----> 7\u001b[0m     \u001b[43mfile\u001b[49m\u001b[38;5;241m.\u001b[39mclose()\n\u001b[1;32m      8\u001b[0m     \u001b[38;5;28mprint\u001b[39m(\u001b[38;5;124m\"\u001b[39m\u001b[38;5;124mFile close\u001b[39m\u001b[38;5;124m\"\u001b[39m)\n",
      "\u001b[0;31mNameError\u001b[0m: name 'file' is not defined"
     ]
    }
   ],
   "source": [
    "try:\n",
    "    file=open(\"test.txttt\",\"r\")\n",
    "    file.read()\n",
    "except FileNotFoundError as e:\n",
    "    print(e)\n",
    "finally :\n",
    "    file.close()\n",
    "    print(\"File close\")"
   ]
  },
  {
   "cell_type": "code",
   "execution_count": 24,
   "id": "b3a7797e-456d-492b-bbd2-3b4674e36859",
   "metadata": {},
   "outputs": [
    {
     "name": "stdin",
     "output_type": "stream",
     "text": [
      "enter the value of x :  0\n"
     ]
    },
    {
     "name": "stdout",
     "output_type": "stream",
     "text": [
      "error cant be devided by zero\n"
     ]
    }
   ],
   "source": [
    "def devider(a,b):\n",
    "    if b== 0:\n",
    "        raise ZeroDivisionError(\"cant be devided by zero\")\n",
    "    result=a/b\n",
    "    return result\n",
    "try:\n",
    "    x=int(input(\"enter the value of x : \"))\n",
    "    result=devider(10,x)\n",
    "except ZeroDivisionError as e:\n",
    "    print(\"error\",str(e))\n",
    "    "
   ]
  },
  {
   "cell_type": "markdown",
   "id": "49c8a269-2774-4888-813b-c83e03f39078",
   "metadata": {},
   "source": [
    "# Q5. Wh\n",
    "t\n",
    "re Custom Ex,eptions in p\n",
    "\n",
    "thon? Wh\n",
    "\n",
    "do we need Custom Ex,eptions? Expl\n",
    "in with\n",
    "n ex\n",
    "mple"
   ]
  },
  {
   "cell_type": "markdown",
   "id": "5e3578e8-6331-4a5f-98ea-9bcf164ac925",
   "metadata": {},
   "source": [
    "in python custom exception are the user defined exception that can be created by user using the excepton class. This classes represent the specific error condition that can be used as the demand of the your code"
   ]
  },
  {
   "cell_type": "code",
   "execution_count": 30,
   "id": "e6a2b574-3b71-4bdc-a0af-1e9c1c4d419b",
   "metadata": {},
   "outputs": [],
   "source": [
    "class withdrawlerror(Exception):\n",
    "    def __init__(self,messages):\n",
    "        self.messages=messages\n",
    "        \n",
    "    "
   ]
  },
  {
   "cell_type": "code",
   "execution_count": 31,
   "id": "b1cb07cc-3e0f-4b1b-84d4-7b7449efcbb4",
   "metadata": {},
   "outputs": [],
   "source": [
    "def bank_balance(ammount,balance):\n",
    "    if ammount>balance:\n",
    "        print(\"insufficient balance\")\n",
    "    elif ammount<balance:\n",
    "        print(\"than u visist again\")\n",
    "    elif ammount<0:\n",
    "        print(\"enter ammount cant be negative\")"
   ]
  },
  {
   "cell_type": "code",
   "execution_count": 34,
   "id": "1d9c3558-e17e-4b58-b99c-8eab661a3951",
   "metadata": {},
   "outputs": [
    {
     "name": "stdin",
     "output_type": "stream",
     "text": [
      "enter the ammount of money you want: 500000000000000000\n"
     ]
    },
    {
     "name": "stdout",
     "output_type": "stream",
     "text": [
      "insufficient balance\n"
     ]
    }
   ],
   "source": [
    "try:\n",
    "    ammount=int(input(\"enter the ammount of money you want:\"))\n",
    "    balance=10000000\n",
    "    bank_balance(ammount,balance)\n",
    "except withdrawlerror as e:\n",
    "                print(e)\n",
    "                \n",
    "    \n",
    "    "
   ]
  },
  {
   "cell_type": "markdown",
   "id": "e96338e0-2b82-4462-8b59-9068e92aaad4",
   "metadata": {},
   "source": [
    "6"
   ]
  },
  {
   "cell_type": "code",
   "execution_count": 67,
   "id": "70c8bbfb-4b7a-4d37-9037-9958f9790233",
   "metadata": {},
   "outputs": [],
   "source": [
    "class zerodevide(Exception):\n",
    "    def __init__(self,msg):\n",
    "         self.msg=msg\n",
    "   "
   ]
  },
  {
   "cell_type": "code",
   "execution_count": 72,
   "id": "d5da1ef8-da2d-41aa-9805-14ab65f1212d",
   "metadata": {},
   "outputs": [],
   "source": [
    "def dividion(a,b):\n",
    "    if b == 0:\n",
    "        raise  zerodevide(\"cant be devided by zero\")\n",
    "    else:\n",
    "        remaining = a/b\n",
    "        print(remaining)"
   ]
  },
  {
   "cell_type": "code",
   "execution_count": 73,
   "id": "1989d6eb-77cc-4b00-9a8c-999a394ec1f6",
   "metadata": {},
   "outputs": [
    {
     "name": "stdin",
     "output_type": "stream",
     "text": [
      "enter the value of b : 0\n"
     ]
    },
    {
     "name": "stdout",
     "output_type": "stream",
     "text": [
      "Error: cant be devided by zero\n"
     ]
    }
   ],
   "source": [
    "try:\n",
    "    a=15\n",
    "    b=int(input(\"enter the value of b :\"))\n",
    "    dividion(a,b)\n",
    "except zerodevide as e:\n",
    "    print(\"Error:\",str(e))"
   ]
  },
  {
   "cell_type": "markdown",
   "id": "bd19a240-9936-49fc-a6d1-aee8686ae184",
   "metadata": {},
   "source": [
    "3"
   ]
  },
  {
   "cell_type": "markdown",
   "id": "eabcd033-09c1-402f-bbd2-7ee16b92f3a5",
   "metadata": {},
   "source": [
    "2."
   ]
  },
  {
   "cell_type": "markdown",
   "id": "df168774-91e1-49a3-bf94-1ebc3a1e469c",
   "metadata": {},
   "source": [
    "When an exception is not handled, it leads to an unhandled exception error and can cause the program to terminate abruptly. Let's explain what happens when an exception is not handled with an example:\n",
    "\n",
    "python"
   ]
  },
  {
   "cell_type": "code",
   "execution_count": 76,
   "id": "7cf32d26-87cd-4c68-a92a-ede3054b077c",
   "metadata": {},
   "outputs": [
    {
     "ename": "ZeroDivisionError",
     "evalue": "division by zero",
     "output_type": "error",
     "traceback": [
      "\u001b[0;31m---------------------------------------------------------------------------\u001b[0m",
      "\u001b[0;31mZeroDivisionError\u001b[0m                         Traceback (most recent call last)",
      "Cell \u001b[0;32mIn[76], line 8\u001b[0m\n\u001b[1;32m      6\u001b[0m     numerator \u001b[38;5;241m=\u001b[39m \u001b[38;5;241m10\u001b[39m\n\u001b[1;32m      7\u001b[0m     denominator \u001b[38;5;241m=\u001b[39m \u001b[38;5;241m0\u001b[39m\n\u001b[0;32m----> 8\u001b[0m     result \u001b[38;5;241m=\u001b[39m \u001b[43mdivide_numbers\u001b[49m\u001b[43m(\u001b[49m\u001b[43mnumerator\u001b[49m\u001b[43m,\u001b[49m\u001b[43m \u001b[49m\u001b[43mdenominator\u001b[49m\u001b[43m)\u001b[49m\n\u001b[1;32m      9\u001b[0m     \u001b[38;5;28mprint\u001b[39m(\u001b[38;5;124m\"\u001b[39m\u001b[38;5;124mResult:\u001b[39m\u001b[38;5;124m\"\u001b[39m, result)\n\u001b[1;32m     10\u001b[0m \u001b[38;5;28;01mexcept\u001b[39;00m \u001b[38;5;167;01mValueError\u001b[39;00m:\n",
      "Cell \u001b[0;32mIn[76], line 2\u001b[0m, in \u001b[0;36mdivide_numbers\u001b[0;34m(a, b)\u001b[0m\n\u001b[1;32m      1\u001b[0m \u001b[38;5;28;01mdef\u001b[39;00m \u001b[38;5;21mdivide_numbers\u001b[39m(a, b):\n\u001b[0;32m----> 2\u001b[0m     result \u001b[38;5;241m=\u001b[39m \u001b[43ma\u001b[49m\u001b[43m \u001b[49m\u001b[38;5;241;43m/\u001b[39;49m\u001b[43m \u001b[49m\u001b[43mb\u001b[49m\n\u001b[1;32m      3\u001b[0m     \u001b[38;5;28;01mreturn\u001b[39;00m result\n",
      "\u001b[0;31mZeroDivisionError\u001b[0m: division by zero"
     ]
    }
   ],
   "source": [
    "def divide_numbers(a, b):\n",
    "    result = a / b\n",
    "    return result\n",
    "\n",
    "try:\n",
    "    numerator = 10\n",
    "    denominator = 0\n",
    "    result = divide_numbers(numerator, denominator)\n",
    "    print(\"Result:\", result)\n",
    "except ValueError:\n",
    "    print(\"Error: Invalid value.\")\n"
   ]
  },
  {
   "cell_type": "markdown",
   "id": "343e0fa1-4982-47ce-a88a-db9a143adb68",
   "metadata": {},
   "source": [
    "In the above example, we have a divide_numbers function that performs division. However, the denominator is set to 0, which will raise a ZeroDivisionError because division by zero is not allowed.\n",
    "\n",
    "Since we don't have an except ZeroDivisionError block to handle this specific exception, the exception is not caught and handled. As a result, the program will terminate, and an unhandled exception error will be displayed with a traceback."
   ]
  },
  {
   "cell_type": "code",
   "execution_count": null,
   "id": "fdbb0871-5f4c-4742-bb51-f841ddf73e44",
   "metadata": {},
   "outputs": [],
   "source": []
  }
 ],
 "metadata": {
  "kernelspec": {
   "display_name": "Python 3 (ipykernel)",
   "language": "python",
   "name": "python3"
  },
  "language_info": {
   "codemirror_mode": {
    "name": "ipython",
    "version": 3
   },
   "file_extension": ".py",
   "mimetype": "text/x-python",
   "name": "python",
   "nbconvert_exporter": "python",
   "pygments_lexer": "ipython3",
   "version": "3.10.8"
  }
 },
 "nbformat": 4,
 "nbformat_minor": 5
}
