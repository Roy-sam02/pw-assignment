{
 "cells": [
  {
   "cell_type": "markdown",
   "id": "f5e1552b-2006-45d5-8427-0ebb223ede3a",
   "metadata": {},
   "source": [
    "## Q1. What is a database? Differentiate between SQL and NoSQL databases."
   ]
  },
  {
   "cell_type": "markdown",
   "id": "3ff3e940-aa90-45fb-a000-19e1ed289959",
   "metadata": {},
   "source": [
    "A database is a structured collection of data that is organized and stored in a way that allows for efficient data retrieval and manipulation. Databases are used to store, manage, and retrieve information in various applications, ranging from simple data storage to complex data-driven applications. They provide a structured and systematic way to store and manage large volumes of data.\n",
    "\n",
    "Databases typically consist of tables, where each table stores related data in rows and columns. These tables are organized using a schema that defines the structure of the data, including the data types and relationships between tables.\n",
    "\n",
    "There are two main categories of databases: SQL (Structured Query Language) databases and NoSQL (Not Only SQL) databases.\n",
    "\n",
    "Differentiating SQL and NoSQL Databases:\n",
    "\n",
    "Data Model:\n",
    "\n",
    "SQL Databases: SQL databases are relational databases that use a structured schema with tables and predefined relationships between tables. Data is stored in rows and columns, and the schema enforces data integrity through constraints and foreign keys.\n",
    "NoSQL Databases: NoSQL databases are non-relational databases that use flexible, schema-less data models. They can store data in various formats, including key-value pairs, documents, wide-column stores, and graph databases.\n",
    "Query Language:\n",
    "\n",
    "SQL Databases: SQL databases use the SQL query language for data manipulation and retrieval. SQL is a powerful language for complex queries and joins.\n",
    "NoSQL Databases: NoSQL databases use query languages specific to their data model. For example, MongoDB uses JSON-like queries, while Cassandra uses CQL (Cassandra Query Language).\n",
    "Scalability:\n",
    "\n",
    "SQL Databases: SQL databases are traditionally scaled vertically, which means you can increase the capacity of a single server by upgrading its hardware. This may have limitations in terms of scalability.\n",
    "NoSQL Databases: NoSQL databases are designed for horizontal scalability, which means you can add more servers to distribute the data and workload. This makes them suitable for handling large volumes of data and high traffic.\n",
    "Schema Flexibility:\n",
    "\n",
    "SQL Databases: SQL databases have a rigid schema that must be defined before data insertion. Any changes to the schema can be complex and may require data migration.\n",
    "NoSQL Databases: NoSQL databases offer schema flexibility, allowing you to add or change fields in your data on the fly without a predefined schema.\n",
    "Use Cases:\n",
    "\n",
    "SQL Databases: SQL databases are suitable for applications with complex querying needs, strong data integrity requirements, and well-defined schemas. Examples include financial systems and e-commerce platforms.\n",
    "NoSQL Databases: NoSQL databases are ideal for applications that require high scalability, rapid development, and flexibility in handling unstructured or semi-structured data. Examples include social media, real-time analytics, and IoT (Internet of Things) applications.\n",
    "In summary, the choice between SQL and NoSQL databases depends on the specific requirements of your application. SQL databases are best suited for structured data with complex relationships, while NoSQL databases are a better fit for unstructured or rapidly changing data that requires horizontal scalability."
   ]
  },
  {
   "cell_type": "markdown",
   "id": "94785575-cf46-4868-aaca-22e002225cd6",
   "metadata": {},
   "source": [
    "## Q2. What is DDL? Explain why CREATE, DROP, ALTER, and TRUNCATE are used with an example."
   ]
  },
  {
   "cell_type": "markdown",
   "id": "1078b6a7-1de8-47d9-b9b2-4cde3bf73edf",
   "metadata": {},
   "source": [
    "DDL stands for Data Definition Language. It is a subset of SQL (Structured Query Language) that is used to define, manage, and manipulate the structure of a database. DDL statements are used to create, modify, and delete database objects such as tables, indexes, and constraints. DDL statements do not retrieve or manipulate data stored in the database; instead, they focus on defining the structure and rules governing the data."
   ]
  },
  {
   "cell_type": "markdown",
   "id": "3e156afd-e42a-4736-ad9a-1bd3dfbb8094",
   "metadata": {},
   "source": [
    "CREATE: The CREATE statement is used to create new database objects, such as tables, indexes, views, and schemas. It specifies the name of the object, its structure, and any constraints that apply to it."
   ]
  },
  {
   "cell_type": "raw",
   "id": "c63093f7-fc62-43ba-9be8-312c0c5e0e56",
   "metadata": {},
   "source": [
    "CREATE TABLE employees (\n",
    "    employee_id INT PRIMARY KEY,\n",
    "    first_name VARCHAR(50),\n",
    "    last_name VARCHAR(50),\n",
    "    hire_date DATE\n",
    ");\n"
   ]
  },
  {
   "cell_type": "raw",
   "id": "3eb694e4-73e5-4246-b92d-673d9b184f4d",
   "metadata": {},
   "source": [
    "DROP: The DROP statement is used to remove existing database objects, such as tables, indexes, or views, from the database. It permanently deletes the object and all associated data."
   ]
  },
  {
   "cell_type": "markdown",
   "id": "9d926d40-999b-4b02-a78a-5425e04e053f",
   "metadata": {},
   "source": [
    "DROP TABLE employees;\n"
   ]
  },
  {
   "cell_type": "markdown",
   "id": "d2c142e9-8c63-4286-b1b6-811116353926",
   "metadata": {},
   "source": [
    "ALTER: The ALTER statement is used to modify the structure of an existing database object. It can be used to add, modify, or delete columns in a table, change data types, or add constraints."
   ]
  },
  {
   "cell_type": "markdown",
   "id": "76517ed7-ea01-4871-9480-2113ec7377eb",
   "metadata": {},
   "source": [
    "ALTER TABLE employees\n",
    "ADD COLUMN email VARCHAR(100);\n"
   ]
  },
  {
   "cell_type": "markdown",
   "id": "90acece8-2cef-49f6-8e96-e5621fe0a0c7",
   "metadata": {},
   "source": [
    "TRUNCATE: The TRUNCATE statement is used to remove all data from a table, but unlike DROP, it retains the table structure. It is a faster way to remove all rows from a table compared to using DELETE without specifying conditions"
   ]
  },
  {
   "cell_type": "markdown",
   "id": "dc9a19b5-4e93-4a83-814a-07e204286ba1",
   "metadata": {},
   "source": [
    "TRUNCATE TABLE employees;\n"
   ]
  },
  {
   "cell_type": "markdown",
   "id": "4154dd5c-d227-4435-81bf-90c2f4c3c56c",
   "metadata": {},
   "source": [
    "## What is DML? Explain INSERT, UPDATE, and DELETE with an example."
   ]
  },
  {
   "cell_type": "markdown",
   "id": "e4b2db47-d639-423e-8e8c-919f9ea7a1a8",
   "metadata": {},
   "source": [
    "DML stands for Data Manipulation Language, which is a subset of SQL (Structured Query Language). DML is used to interact with and manipulate data stored in a database. It consists of three main operations: INSERT, UPDATE, and DELETE, each of which serves a specific purpose in managing the data within a database."
   ]
  },
  {
   "cell_type": "markdown",
   "id": "5ee1cbac-380d-4235-b286-6e12a18f1dce",
   "metadata": {},
   "source": [
    "INSERT:\n",
    "\n",
    "The INSERT statement is used to add new records (rows) into a database table. It specifies the table's name and provides values for one or more columns, corresponding to the new record you want to insert."
   ]
  },
  {
   "cell_type": "markdown",
   "id": "d30164d1-4428-49cd-8f49-99c92b289801",
   "metadata": {},
   "source": [
    "INSERT INTO customers (customer_id, first_name, last_name, email)\n",
    "VALUES (1, 'John', 'Doe', 'john.doe@example.com');\n"
   ]
  },
  {
   "cell_type": "markdown",
   "id": "89995207-f3ad-4e48-b980-198728a834e1",
   "metadata": {},
   "source": [
    "UPDATE:\n",
    "\n",
    "The UPDATE statement is used to modify existing records in a database table. It specifies the table's name, sets new values for one or more columns, and includes a condition to identify which records should be updated."
   ]
  },
  {
   "cell_type": "markdown",
   "id": "58adb9db-0250-4c56-9c33-fd97b8de4831",
   "metadata": {},
   "source": [
    "UPDATE products\n",
    "SET price = 29.99\n",
    "WHERE product_id = 123;\n"
   ]
  },
  {
   "cell_type": "markdown",
   "id": "2fb1cf18-bf95-4e0c-ae09-be359c0bef91",
   "metadata": {},
   "source": [
    "DELETE:\n",
    "\n",
    "The DELETE statement is used to remove records from a database table. It specifies the table's name and includes a condition to identify which records should be deleted. If no condition is provided, all records in the table will be deleted.\n",
    "\n",
    "Example:"
   ]
  },
  {
   "cell_type": "markdown",
   "id": "59b282f9-510c-4a8e-84c3-193f499b5129",
   "metadata": {},
   "source": [
    "DELETE FROM orders\n",
    "WHERE order_id = 456;\n"
   ]
  },
  {
   "cell_type": "markdown",
   "id": "f4831a40-376d-42cd-8d59-0cbd09cf6339",
   "metadata": {},
   "source": [
    "## What is DQL? Explain SELECT with an example."
   ]
  },
  {
   "cell_type": "markdown",
   "id": "f58bdcdf-3970-4c8d-8a3e-384b77d0157a",
   "metadata": {},
   "source": [
    "DQL stands for Data Query Language, which is a subset of SQL (Structured Query Language). DQL is specifically focused on retrieving data from a database. The primary DQL statement is SELECT, which allows you to query and retrieve data from one or more database tables."
   ]
  },
  {
   "cell_type": "markdown",
   "id": "0033ebc7-4542-45e4-bf33-7d80cc3eb415",
   "metadata": {},
   "source": [
    "SELECT:\n",
    "\n",
    "The SELECT statement is used to retrieve data from one or more database tables. It allows you to specify which columns you want to retrieve, the table(s) from which to retrieve the data, and conditions that filter the results. The result of a SELECT statement is a result set, which is a table-like structure containing the retrieved data."
   ]
  },
  {
   "cell_type": "markdown",
   "id": "af498bc9-8bcb-4c8d-9604-f96542c9315e",
   "metadata": {},
   "source": [
    "SELECT employee_id, first_name, last_name, salary\n",
    "FROM employees\n",
    "WHERE department = 'Sales';\n"
   ]
  },
  {
   "cell_type": "markdown",
   "id": "5e79953f-d47f-4679-85f9-0e924b8effa3",
   "metadata": {},
   "source": [
    "Explain Primary Key and Foreign Key."
   ]
  },
  {
   "cell_type": "markdown",
   "id": "b98761fc-2be0-4f81-a04a-dfb9ae8b55ec",
   "metadata": {},
   "source": [
    "Primary Key:\n",
    "\n",
    "A Primary Key is a field or combination of fields in a database table that uniquely identifies each record or row in that table. It serves as a crucial element in maintaining the integrity and consistency of the database because it ensures that each record has a unique identifier. Here are some key characteristics of a primary key:\n",
    "\n",
    "Uniqueness: Every value in the primary key column(s) must be unique across all rows in the table. This uniqueness constraint ensures that no two records have the same identifier.\n",
    "\n",
    "Non-Null: A primary key field cannot contain a null (empty) value. Every record in the table must have a valid and non-null value for the primary key.\n",
    "\n",
    "Fixed: The primary key value(s) should remain relatively stable over time. It should not change frequently, as it is used to establish relationships with other tables.\n",
    "\n",
    "Indexed: Primary keys are typically indexed in the database for efficient retrieval. This indexing enhances the speed of searching for specific records based on their primary key values.\n",
    "\n",
    "Single or Composite: A primary key can consist of a single field or a combination of multiple fields. When it involves multiple fields, it is known as a composite primary key.\n",
    "\n",
    "Foreign Key:\n",
    "\n",
    "A Foreign Key is a field or combination of fields in one table that is used to establish a link between the data in two related tables. It creates a referential integrity constraint that enforces data consistency by ensuring that values in the foreign key column(s) match values in the primary key of another table. Here are some key characteristics of a foreign key:\n",
    "\n",
    "Referential Integrity: The foreign key establishes a relationship between tables, ensuring that data in the referencing table (the one with the foreign key) corresponds to valid data in the referenced table (the one with the primary key).\n",
    "\n",
    "Values Must Exist: Values in the foreign key column(s) must exist in the primary key column(s) of the referenced table. This constraint prevents the creation of \"orphaned\" records with no related data.\n",
    "\n",
    "Cascading Actions: Depending on the database system and configuration, foreign keys can be configured to perform actions when changes occur in the referenced table. These actions include CASCADE (automatically propagate changes), SET NULL (set foreign key values to NULL), SET DEFAULT (set foreign key values to the default value), or NO ACTION (prevent changes that would violate referential integrity).\n",
    "\n",
    "Relationship Types: Foreign keys establish various types of relationships, including one-to-one, one-to-many, and many-to-one relationships between tables, depending on how they are defined.\n",
    "\n",
    "Example:\n",
    "\n",
    "Consider two tables, Orders and Customers. The Orders table might have a foreign key, customer_id, which links each order to a specific customer in the Customers table. Here, customer_id is a foreign key in the Orders table, referencing the primary key, customer_id, in the Customers table. This foreign key relationship ensures that each order corresponds to a valid customer."
   ]
  },
  {
   "cell_type": "markdown",
   "id": "dbb21209-45c5-443a-b606-55f306efee8a",
   "metadata": {},
   "source": [
    "## Write a python code to connect MySQL to python. Explain the cursor() and execute() method."
   ]
  },
  {
   "cell_type": "markdown",
   "id": "fd420743-e675-4213-aae2-00ad4d7ef41a",
   "metadata": {},
   "source": [
    "import mysql.connector\n",
    "\n",
    "mydb=mysql.connector.connect(\n",
    "    host=\"localhost\",\n",
    "    user=\"abc\",\n",
    "    password=\"password\"\n",
    ")\n",
    "mycursor=mydb.cursor()\n",
    "mycursor.execute(\"CREATE DATABASE IF NOT EXISTS test3\")\n",
    "mycursor.execute(\"CREATE TABLE IF NOT EXISTS test1.test_table (c1 INT, C2 VARCHAR(50), C3 INT, C4 FLOAT, C5 VARCHAR(50)) \")\n",
    "mydb.close()\n"
   ]
  },
  {
   "cell_type": "markdown",
   "id": "62dbcc59-9ee5-4bee-9914-b551b9778446",
   "metadata": {},
   "source": []
  }
 ],
 "metadata": {
  "kernelspec": {
   "display_name": "Python 3 (ipykernel)",
   "language": "python",
   "name": "python3"
  },
  "language_info": {
   "codemirror_mode": {
    "name": "ipython",
    "version": 3
   },
   "file_extension": ".py",
   "mimetype": "text/x-python",
   "name": "python",
   "nbconvert_exporter": "python",
   "pygments_lexer": "ipython3",
   "version": "3.10.8"
  }
 },
 "nbformat": 4,
 "nbformat_minor": 5
}
