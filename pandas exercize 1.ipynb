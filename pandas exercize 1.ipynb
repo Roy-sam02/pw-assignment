{
 "cells": [
  {
   "cell_type": "markdown",
   "id": "ed67849f-ca28-4992-aab6-dca8986c95f2",
   "metadata": {},
   "source": [
    "## Q1. Create a Pandas Series that contains the following data: 4, 8, 15, 16, 23, and 42. Then, print the series."
   ]
  },
  {
   "cell_type": "code",
   "execution_count": 1,
   "id": "ce6cfdb3-81fc-41c7-81c7-6f3d72a94198",
   "metadata": {},
   "outputs": [],
   "source": [
    "import pandas as pd"
   ]
  },
  {
   "cell_type": "code",
   "execution_count": 2,
   "id": "85c047f8-624f-4d71-bc57-18c669a52f25",
   "metadata": {},
   "outputs": [],
   "source": [
    "data=[4, 8, 15, 16, 23, 42]"
   ]
  },
  {
   "cell_type": "code",
   "execution_count": 5,
   "id": "15693b93-b75e-4447-8bda-19e50d683dc2",
   "metadata": {},
   "outputs": [],
   "source": [
    "serize=pd.Series(data)"
   ]
  },
  {
   "cell_type": "code",
   "execution_count": 6,
   "id": "9f6f3f07-19ba-464d-b4bd-85786819d2dc",
   "metadata": {},
   "outputs": [
    {
     "name": "stdout",
     "output_type": "stream",
     "text": [
      "0     4\n",
      "1     8\n",
      "2    15\n",
      "3    16\n",
      "4    23\n",
      "5    42\n",
      "dtype: int64\n"
     ]
    }
   ],
   "source": [
    "print(serize)"
   ]
  },
  {
   "cell_type": "markdown",
   "id": "d467b707-c28e-4309-bdae-383208f9dee7",
   "metadata": {},
   "source": [
    "## Q2. Create a variable of list type containing 10 elements in it, and apply pandas.Series function on the variable print it.\n"
   ]
  },
  {
   "cell_type": "code",
   "execution_count": 7,
   "id": "ce3e20a8-4aab-46e0-9138-56e2c221e9f6",
   "metadata": {},
   "outputs": [],
   "source": [
    "data1=['subh','ankit','nitish',56,2002,52.36,78,True,35]"
   ]
  },
  {
   "cell_type": "code",
   "execution_count": 8,
   "id": "1382e747-5ea2-42c2-bedd-38f4476958d8",
   "metadata": {},
   "outputs": [],
   "source": [
    "ser=pd.Series(data1)"
   ]
  },
  {
   "cell_type": "code",
   "execution_count": 9,
   "id": "50b2d4e7-2f13-42ec-9771-4b8154a6f1de",
   "metadata": {},
   "outputs": [
    {
     "data": {
      "text/plain": [
       "0      subh\n",
       "1     ankit\n",
       "2    nitish\n",
       "3        56\n",
       "4      2002\n",
       "5     52.36\n",
       "6        78\n",
       "7      True\n",
       "8        35\n",
       "dtype: object"
      ]
     },
     "execution_count": 9,
     "metadata": {},
     "output_type": "execute_result"
    }
   ],
   "source": [
    "ser"
   ]
  },
  {
   "cell_type": "code",
   "execution_count": 13,
   "id": "e4665464-3051-48f3-846b-e668ebc9b24d",
   "metadata": {},
   "outputs": [
    {
     "name": "stdout",
     "output_type": "stream",
     "text": [
      "    Name  Age  Gender\n",
      "0  Alice   25  Female\n",
      "1    Bob   30    Male\n",
      "2  clair   27  Female\n"
     ]
    }
   ],
   "source": [
    "import pandas as pd\n",
    "data4={\n",
    "    \"Name\":[\"Alice\",\"Bob\",\"clair\"],\n",
    "    \"Age\": [25,30,27],\n",
    "    \"Gender\":[\"Female\",\"Male\",\"Female\"]\n",
    "}\n",
    "ser3=pd.DataFrame(data4)\n",
    "print(ser3)"
   ]
  },
  {
   "cell_type": "markdown",
   "id": "9589bc5d-f362-422c-a511-9ac5cc45f577",
   "metadata": {},
   "source": [
    "## 4. What is ‘DataFrame’ in pandas and how is it different from pandas.series? Explain with an example."
   ]
  },
  {
   "cell_type": "markdown",
   "id": "f1a2cdc5-5821-4c6c-a601-8f59c120b357",
   "metadata": {},
   "source": [
    "In pandas, a DataFrame is a two-dimensional, tabular data structure that is commonly used for data manipulation and analysis. It can be thought of as a spreadsheet or SQL table, where data is organized into rows and columns. Each column in a DataFrame is a pandas Series, and these columns can contain different types of data, such as numbers, strings, or dates.\n",
    "\n",
    "Here are some key characteristics of a DataFrame:\n",
    "\n",
    "Tabular Structure: DataFrames are organized in a tabular format with rows and columns, making it suitable for representing structured data.\n",
    "\n",
    "Heterogeneous Data: Each column in a DataFrame can hold different types of data, unlike a NumPy array where all elements must be of the same data type.\n",
    "\n",
    "Labeled Axes: DataFrames have labeled rows and columns, which allows for easy indexing and selection of data."
   ]
  },
  {
   "cell_type": "code",
   "execution_count": 4,
   "id": "aa7736cd-7dd2-46a6-be03-b9b1ec436ae0",
   "metadata": {},
   "outputs": [
    {
     "name": "stdout",
     "output_type": "stream",
     "text": [
      "dataFrame\n",
      "     name  cgpa            college\n",
      "0  avijit   9.8            kalyani\n",
      "1  roysam   9.5  midnapore college\n",
      "2    sami   8.6                KNU\n",
      "\n",
      " serize\n",
      "0    9.8\n",
      "1    9.5\n",
      "2    8.6\n",
      "dtype: float64\n"
     ]
    }
   ],
   "source": [
    "import pandas as pd\n",
    "data10={\n",
    "    \"name\":[\"avijit\",\"roysam\",\"sami\"],\n",
    "    \"cgpa\":[9.8,9.5,8.6],\n",
    "    \"college\":[\"kalyani\",\"midnapore college\",\"KNU\"]\n",
    "}\n",
    "drf=pd.DataFrame(data10)\n",
    "print(\"dataFrame\")\n",
    "print(drf)\n",
    "cgpa=pd.Series([9.8,9.5,8.6])\n",
    "print(\"\\n serize\")\n",
    "print(cgpa)\n"
   ]
  },
  {
   "cell_type": "markdown",
   "id": "f217e599-81cd-42a4-a82c-d37094c9078d",
   "metadata": {},
   "source": [
    "## Q5. What are some common functions you can use to manipulate data in a Pandas DataFrame? Can you give an example of when you might use one of these functions?\n"
   ]
  },
  {
   "cell_type": "markdown",
   "id": "a287160d-c5e2-4adf-a23d-799a062aad5f",
   "metadata": {},
   "source": [
    "Selection and Filtering:\n",
    "\n",
    "loc[] and iloc[]: Used to select rows and columns by labels or integer-based indexing.\n",
    "query(): Allows you to filter rows using a query expression.\n",
    "Example: You might use these functions to filter rows based on specific conditions, such as selecting all rows where the 'Age' column is greater than 30.\n",
    "\n",
    "Sorting:\n",
    "\n",
    "sort_values(): Sorts the DataFrame by one or more columns.\n",
    "sort_index(): Sorts the DataFrame by row or column labels.\n",
    "Example: Sorting a DataFrame by the 'Salary' column in descending order.\n",
    "\n",
    "Aggregation:\n",
    "\n",
    "groupby(): Groups data based on one or more columns and allows you to perform aggregation operations like sum, mean, count, etc., on the groups.\n",
    "agg(): Applies multiple aggregation functions to specified columns.\n",
    "Example: Calculating the average salary for each department using groupby() and mean().\n",
    "\n",
    "Data Cleaning:\n",
    "\n",
    "fillna(): Fills missing values in the DataFrame with specified values or methods.\n",
    "dropna(): Removes rows or columns with missing values.\n",
    "replace(): Replaces specified values with other values.\n",
    "Example: Replacing missing values in the 'Age' column with the mean age.\n",
    "\n",
    "Creating New Columns:\n",
    "\n",
    "You can create new columns based on existing columns or calculations.\n",
    "Example: Creating a new column 'Full Name' by concatenating 'First Name' and 'Last Name' columns.\n",
    "\n",
    "Merging and Joining:\n",
    "\n",
    "merge(): Combines two or more DataFrames based on common columns.\n",
    "concat(): Concatenates DataFrames along rows or columns.\n",
    "Example: Merging employee data with department data using a common 'Department ID' column.\n",
    "\n",
    "Pivoting and Reshaping:\n",
    "\n",
    "pivot(), pivot_table(), melt(), stack(), unstack(): These functions help reshape the DataFrame for better analysis and visualization.\n",
    "Example: Pivoting a long-format dataset into a wide format for better readability.\n",
    "\n",
    "String Manipulation:\n",
    "\n",
    "str.contains(), str.extract(), str.replace(): Useful for text data, these functions allow you to manipulate and extract information from string columns.\n",
    "Example: Extracting email domains from a 'Email' column.\n",
    "\n",
    "Statistical Analysis:\n",
    "\n",
    "describe(): Provides summary statistics for numeric columns.\n",
    "corr(): Calculates pairwise correlation between numeric columns.\n",
    "cov(): Calculates covariance between numeric columns.\n",
    "Example: Generating a summary of statistics for a dataset using describe().\n",
    "\n",
    "Applying Functions:\n",
    "\n",
    "apply(): Applies a custom function to each element, row, or column in the DataFrame.\n",
    "Example: Applying a function to calculate a custom performance score based on 'Sales' and 'Profit' columns.\n",
    "\n",
    "These are just a few common functions in Pandas for data manipulation. The choice of which function to use depends on the specific data manipulation or analysis task you want to perform with your DataFrame."
   ]
  },
  {
   "cell_type": "code",
   "execution_count": 6,
   "id": "703d2a5a-d0db-45a2-a26d-3628423f6e7b",
   "metadata": {},
   "outputs": [
    {
     "name": "stdout",
     "output_type": "stream",
     "text": [
      "     name  age\n",
      "2  suovik   30\n",
      "3    riku   38\n"
     ]
    }
   ],
   "source": [
    "import pandas as pd\n",
    "datas={\n",
    "    \"name\":[\"suprakash\",\"aviraj\",\"suovik\",\"riku\"],\n",
    "    \"age\":[25,23,30,38]}\n",
    "daf=pd.DataFrame(datas)\n",
    "sor_df=daf[daf[\"age\"]>25]\n",
    "print(sor_df)\n",
    "\n",
    "    \n",
    "    "
   ]
  },
  {
   "cell_type": "code",
   "execution_count": 8,
   "id": "df505225-1267-4486-b166-d9d113c9aef4",
   "metadata": {},
   "outputs": [
    {
     "name": "stdout",
     "output_type": "stream",
     "text": [
      "        name  age\n",
      "1     aviraj   23\n",
      "0  suprakash   25\n",
      "2     suovik   30\n",
      "3       riku   38\n"
     ]
    }
   ],
   "source": [
    "sorted_val=daf.sort_values(\"age\")\n",
    "print(sorted_val)"
   ]
  },
  {
   "cell_type": "markdown",
   "id": "d37d34c9-0490-434e-a610-8e2c8f1b87d5",
   "metadata": {},
   "source": [
    "## Q6. Which of the following is mutable in nature Series, DataFrame, Panel?"
   ]
  },
  {
   "cell_type": "markdown",
   "id": "5943dc83-78fa-48b6-bdcd-88e64a8e8150",
   "metadata": {},
   "source": [
    "In Pandas, the Series and DataFrame are mutable, whereas the Panel is not.\n",
    "\n",
    "Series: A Pandas Series is mutable, which means you can modify its values and indices after creation. You can change the values of individual elements, add or remove elements, or reassign values to existing indices.\n",
    "\n",
    "DataFrame: A Pandas DataFrame is also mutable. You can modify the data within a DataFrame, add or remove columns, change column names, and perform various operations to manipulate the data in the DataFrame.\n",
    "\n",
    "Panel: The Panel was a data structure in older versions of Pandas (before version 0.25), primarily designed for handling three-dimensional data. However, it has been removed in recent versions of Pandas (starting from version 0.25) and is no longer available in the library. Therefore, there is no concept of mutability for the Panel because it's no longer part of the Pandas library.\n",
    "\n",
    "In summary, both Series and DataFrame are mutable data structures in Pandas, while the Panel has been deprecated and removed from the library."
   ]
  },
  {
   "cell_type": "code",
   "execution_count": 17,
   "id": "0593011b-8105-4d14-80f6-34fd215947f5",
   "metadata": {},
   "outputs": [
    {
     "name": "stdout",
     "output_type": "stream",
     "text": [
      "the nirf data for best colleges for diffarent aspects\n",
      "                    university   location  rank\n",
      "0  Indian Institute of Science  bangalore  10.0\n",
      "1  Jawaharlal Nehru University      delhi   2.0\n",
      "2         Jamia Millia Islamia   hydrabad  54.0\n",
      "3          Jadavpur University    kolkata   6.0\n",
      "4     Banaras Hindu University        NaN   NaN\n"
     ]
    }
   ],
   "source": [
    "import pandas as pd\n",
    "print(\"the nirf data for best colleges for diffarent aspects\")\n",
    "universities=pd.Series([\"Indian Institute of Science\",\"Jawaharlal Nehru University\",\"Jamia Millia Islamia\",\"Jadavpur University\",\"Banaras Hindu University\"])\n",
    "location=pd.Series(['bangalore','delhi','hydrabad','kolkata'])\n",
    "ranking_eng=pd.Series([10,2,54,6])\n",
    "data_colab={\"university\":universities,\"location\":location,\"rank\":ranking_eng}\n",
    "datafra=pd.DataFrame(data_colab)\n",
    "print(datafra)"
   ]
  },
  {
   "cell_type": "code",
   "execution_count": null,
   "id": "f431e8b5-ed74-4508-b81c-36c533f63a51",
   "metadata": {},
   "outputs": [],
   "source": []
  }
 ],
 "metadata": {
  "kernelspec": {
   "display_name": "Python 3 (ipykernel)",
   "language": "python",
   "name": "python3"
  },
  "language_info": {
   "codemirror_mode": {
    "name": "ipython",
    "version": 3
   },
   "file_extension": ".py",
   "mimetype": "text/x-python",
   "name": "python",
   "nbconvert_exporter": "python",
   "pygments_lexer": "ipython3",
   "version": "3.10.8"
  }
 },
 "nbformat": 4,
 "nbformat_minor": 5
}
