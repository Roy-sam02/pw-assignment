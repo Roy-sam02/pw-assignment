{
 "cells": [
  {
   "cell_type": "markdown",
   "id": "06365f16-7aa9-4ad8-81a7-90fac2a46be9",
   "metadata": {},
   "source": [
    "# Explain Class and Object with respect to Object-Oriented Programming. Give a suitable example."
   ]
  },
  {
   "cell_type": "markdown",
   "id": "dd367e81-7fea-46c7-b8dd-d85342d6fc18",
   "metadata": {},
   "source": [
    " class: In object oriented programing the class is an blueprint or template of  which defines the behaviour of the the object belongs to it."
   ]
  },
  {
   "cell_type": "markdown",
   "id": "e4c4dd14-c84c-4f40-9a13-11be03340cf4",
   "metadata": {},
   "source": [
    "object  : In other hand objects works as a instance . The objects posses a set of valus which works as the rules set in the clas they belongs to"
   ]
  },
  {
   "cell_type": "markdown",
   "id": "462e3aba-472d-4bd0-a6c9-acd42e27e5ed",
   "metadata": {},
   "source": [
    "Example\n"
   ]
  },
  {
   "cell_type": "code",
   "execution_count": 5,
   "id": "5935da6e-6f37-4ebf-b75d-5eeb1e489db8",
   "metadata": {},
   "outputs": [],
   "source": [
    "class Car:\n",
    "    def __init__(self, brand, model, color):\n",
    "        self.brand = brand\n",
    "        self.model = model\n",
    "        self.color = color\n",
    "        self.speed = 0\n",
    "\n",
    "    def accelerate(self, increment):\n",
    "        self.speed += increment\n",
    "\n",
    "    def brake(self, decrement):\n",
    "        if self.speed - decrement < 0:\n",
    "            self.speed = 0\n",
    "        else:\n",
    "            self.speed -= decrement\n"
   ]
  },
  {
   "cell_type": "code",
   "execution_count": 6,
   "id": "20cdd696-d579-4165-81ef-e74afe5b8018",
   "metadata": {},
   "outputs": [],
   "source": [
    "my_car = Car(\"Toyota\", \"Camry\", \"Blue\")\n",
    "your_car = Car(\"Honda\", \"Accord\", \"Red\")\n"
   ]
  },
  {
   "cell_type": "markdown",
   "id": "34798c09-6890-449a-878b-e8b7f072da26",
   "metadata": {},
   "source": [
    "Here we  consider an example of a class called \"Car\" to illustrate the concept. The class defines the common characteristics and behaviors of a car, such as its brand, model, color, and the ability to accelerate or brake. This is how one would define a Car class in a typical object-oriented programming language like Python"
   ]
  },
  {
   "cell_type": "markdown",
   "id": "a3c4e6e5-2fa7-4bf7-ba65-d08335c9d38a",
   "metadata": {},
   "source": [
    "In this case, my_car and your_car are two distinct objects of the Car class. They have their own unique values for the attributes brand, model, color, and speed"
   ]
  },
  {
   "cell_type": "markdown",
   "id": "cafac8d1-82fe-4dd5-a483-442b73ce0186",
   "metadata": {},
   "source": [
    "# Name the four pillars of OOPs."
   ]
  },
  {
   "cell_type": "markdown",
   "id": "98d1ed23-498a-45bc-8561-15edb338779b",
   "metadata": {},
   "source": [
    "The four pillars of OOps is 1.polymorphism, 2.abstruction ,3.encapsulation ,4.Inheritience"
   ]
  },
  {
   "cell_type": "markdown",
   "id": "99e1d755-3d5d-4d9b-83a1-45f68b172e32",
   "metadata": {},
   "source": [
    "# Explain why the __init__() function is used. Give a suitable example."
   ]
  },
  {
   "cell_type": "markdown",
   "id": "23d51778-094f-4367-8c93-b4b3be66c962",
   "metadata": {},
   "source": [
    "the '__init__' method is a special method which is called instructer and it helps to intisialising the object's attritibute  when a new class is created."
   ]
  },
  {
   "cell_type": "markdown",
   "id": "4ad183f5-c979-44fe-8c95-5411e30eeaf1",
   "metadata": {},
   "source": [
    "# Q4. Why self is used in OOPs?"
   ]
  },
  {
   "cell_type": "markdown",
   "id": "ac3f4e77-e2df-4d55-9f1c-55700cc172cf",
   "metadata": {},
   "source": [
    "The self variable is often used to represent the instance of the class which is used in Object oriented programing."
   ]
  },
  {
   "cell_type": "markdown",
   "id": "cd4035fd-ba88-4424-aaaa-dcf83f131839",
   "metadata": {},
   "source": [
    "# What is inheritance? Give an example for each type of inheritance."
   ]
  },
  {
   "cell_type": "markdown",
   "id": "9d0a8e33-5625-4a34-a35d-1832c7043c15",
   "metadata": {},
   "source": [
    "Inheritance is a fundamental concept in object-oriented programming  that allows a class to inherit properties and behaviors from another class. The class that inherits is called a derived class or subclass, and the class from which it inherits is called the base class or superclass. Inheritance promotes code reuse and supports the concept of \"is-a\" relationships, where a derived class is a specialized version of the base class."
   ]
  },
  {
   "cell_type": "markdown",
   "id": "771661bc-f5e1-443e-91c1-5c265985c2ee",
   "metadata": {},
   "source": [
    "# multiple inherient"
   ]
  },
  {
   "cell_type": "code",
   "execution_count": 8,
   "id": "41f3e54e-9e13-416f-87fd-4248be2f7115",
   "metadata": {},
   "outputs": [],
   "source": [
    "class class1():\n",
    "    def test_class1(self):\n",
    "        print('this is the first class')"
   ]
  },
  {
   "cell_type": "code",
   "execution_count": 9,
   "id": "ba0daa83-3692-407c-a142-a81911175616",
   "metadata": {},
   "outputs": [],
   "source": [
    "class class2():\n",
    "    def test_class2(self):\n",
    "        print('this is the second class')"
   ]
  },
  {
   "cell_type": "code",
   "execution_count": 10,
   "id": "941ebbfb-36f5-4a24-b9af-72169cc0797e",
   "metadata": {},
   "outputs": [],
   "source": [
    "class class3(class1,class2):\n",
    "    pass"
   ]
  },
  {
   "cell_type": "code",
   "execution_count": 11,
   "id": "e6f43250-8193-419d-b913-b952dabf54a5",
   "metadata": {},
   "outputs": [],
   "source": [
    "obj_class=class3()"
   ]
  },
  {
   "cell_type": "code",
   "execution_count": 12,
   "id": "54ea1004-61b2-4288-9f16-13988101f468",
   "metadata": {},
   "outputs": [
    {
     "name": "stdout",
     "output_type": "stream",
     "text": [
      "this is the second class\n"
     ]
    }
   ],
   "source": [
    "obj_class.test_class2()"
   ]
  },
  {
   "cell_type": "markdown",
   "id": "40849cef-bf35-4944-9ca7-0c66e2f3eedb",
   "metadata": {},
   "source": [
    "# Multilevel inheritence"
   ]
  },
  {
   "cell_type": "code",
   "execution_count": 13,
   "id": "9fb3e4e6-c172-4070-9a49-7d4e5624c5d7",
   "metadata": {},
   "outputs": [],
   "source": [
    "class class1:\n",
    "    def test_class1(self):\n",
    "        print('this is class 1')"
   ]
  },
  {
   "cell_type": "code",
   "execution_count": 14,
   "id": "1953e1c8-8fed-4de1-8324-8c380cf490a4",
   "metadata": {},
   "outputs": [],
   "source": [
    "class class2(class1):\n",
    "    def test_class2(self):\n",
    "        print('this is class 2')"
   ]
  },
  {
   "cell_type": "code",
   "execution_count": 15,
   "id": "f59e09a6-d407-461d-ac82-3d5c4879503f",
   "metadata": {},
   "outputs": [],
   "source": [
    "class class3(class2):\n",
    "    def test_class3(self):\n",
    "        print('this is my class 3')\n",
    "    "
   ]
  },
  {
   "cell_type": "code",
   "execution_count": 16,
   "id": "3b5b5ca3-3475-4bc1-9610-ab3d10890f1c",
   "metadata": {},
   "outputs": [],
   "source": [
    "class_colab=class3()"
   ]
  },
  {
   "cell_type": "code",
   "execution_count": 18,
   "id": "8657b84a-9594-4b62-a666-d2ee80cecec2",
   "metadata": {},
   "outputs": [
    {
     "name": "stdout",
     "output_type": "stream",
     "text": [
      "this is my class 3\n"
     ]
    }
   ],
   "source": [
    "class_colab.test_class3()"
   ]
  },
  {
   "cell_type": "code",
   "execution_count": null,
   "id": "4d4b1061-3ceb-4edb-9ccf-ebd0e804a2e6",
   "metadata": {},
   "outputs": [],
   "source": []
  }
 ],
 "metadata": {
  "kernelspec": {
   "display_name": "Python 3 (ipykernel)",
   "language": "python",
   "name": "python3"
  },
  "language_info": {
   "codemirror_mode": {
    "name": "ipython",
    "version": 3
   },
   "file_extension": ".py",
   "mimetype": "text/x-python",
   "name": "python",
   "nbconvert_exporter": "python",
   "pygments_lexer": "ipython3",
   "version": "3.10.8"
  }
 },
 "nbformat": 4,
 "nbformat_minor": 5
}
