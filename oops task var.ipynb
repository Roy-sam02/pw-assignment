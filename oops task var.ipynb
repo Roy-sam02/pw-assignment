{
 "cells": [
  {
   "cell_type": "markdown",
   "id": "9c9b4bc9-e650-47ff-9114-6a4540dc7612",
   "metadata": {},
   "source": [
    " # Create a vehicle class with an init method having instance variables as name_of_vehicle, max_speed and average_of_vehicle.\n"
   ]
  },
  {
   "cell_type": "code",
   "execution_count": 5,
   "id": "1903fd17-2f0e-4609-a88e-31750ae08f91",
   "metadata": {},
   "outputs": [],
   "source": [
    "class vehicle:\n",
    "    def __init__(self,name_of_vehicle,max_speed,ave_of_vehicle):\n",
    "        self.name_of_vehicle = name_of_vehicle\n",
    "        self.max_speed = max_speed\n",
    "        self.average_of_vehicle = ave_of_vehicle\n",
    "        "
   ]
  },
  {
   "cell_type": "code",
   "execution_count": 6,
   "id": "98c1de44-82bb-4f88-8bd0-401851b290c9",
   "metadata": {},
   "outputs": [],
   "source": [
    "car= vehicle(\"tesla model 8\",280,150)"
   ]
  },
  {
   "cell_type": "code",
   "execution_count": 7,
   "id": "0e866bf3-3505-41d8-97a8-807fefc1213d",
   "metadata": {},
   "outputs": [],
   "source": [
    "bike = vehicle(\"CB 100\",120,50)"
   ]
  },
  {
   "cell_type": "code",
   "execution_count": 8,
   "id": "8e64e756-6047-4f59-86de-9bae402407e3",
   "metadata": {},
   "outputs": [
    {
     "data": {
      "text/plain": [
       "'tesla model 8'"
      ]
     },
     "execution_count": 8,
     "metadata": {},
     "output_type": "execute_result"
    }
   ],
   "source": [
    "car.name_of_vehicle"
   ]
  },
  {
   "cell_type": "code",
   "execution_count": 9,
   "id": "d3d11e0b-b20e-4389-9bf5-ab0dc0821f12",
   "metadata": {},
   "outputs": [
    {
     "data": {
      "text/plain": [
       "280"
      ]
     },
     "execution_count": 9,
     "metadata": {},
     "output_type": "execute_result"
    }
   ],
   "source": [
    "car.max_speed"
   ]
  },
  {
   "cell_type": "code",
   "execution_count": 10,
   "id": "5f60ec69-407e-4604-8c5b-c63650243944",
   "metadata": {},
   "outputs": [
    {
     "data": {
      "text/plain": [
       "150"
      ]
     },
     "execution_count": 10,
     "metadata": {},
     "output_type": "execute_result"
    }
   ],
   "source": [
    "car.average_of_vehicle"
   ]
  },
  {
   "cell_type": "code",
   "execution_count": 11,
   "id": "9255c035-387e-4932-9490-2d1a316cd366",
   "metadata": {},
   "outputs": [
    {
     "data": {
      "text/plain": [
       "50"
      ]
     },
     "execution_count": 11,
     "metadata": {},
     "output_type": "execute_result"
    }
   ],
   "source": [
    "bike.average_of_vehicle"
   ]
  },
  {
   "cell_type": "code",
   "execution_count": 12,
   "id": "c699025d-fb09-400b-8667-4e947c718a44",
   "metadata": {},
   "outputs": [
    {
     "data": {
      "text/plain": [
       "120"
      ]
     },
     "execution_count": 12,
     "metadata": {},
     "output_type": "execute_result"
    }
   ],
   "source": [
    "bike.max_speed"
   ]
  },
  {
   "cell_type": "code",
   "execution_count": 13,
   "id": "29645a5b-1d17-4441-80f2-e9ee059a9605",
   "metadata": {},
   "outputs": [
    {
     "data": {
      "text/plain": [
       "'CB 100'"
      ]
     },
     "execution_count": 13,
     "metadata": {},
     "output_type": "execute_result"
    }
   ],
   "source": [
    "bike.name_of_vehicle"
   ]
  },
  {
   "cell_type": "markdown",
   "id": "732f6ba5-f6e3-490f-9919-33f496b3683d",
   "metadata": {},
   "source": [
    "# Create a child class car from the vehicle class created in Que 1, which will inherit the vehicle class.Create a method named seating_capacity which takes capacity as an argument and returns the name ofthe vehicle and its seating capacity\n",
    ".\n"
   ]
  },
  {
   "cell_type": "code",
   "execution_count": 17,
   "id": "5bcd5c60-c6b6-4a92-ba02-b004f8131b51",
   "metadata": {},
   "outputs": [],
   "source": [
    "class Car(vehicle):\n",
    "    def seating_capacity(self,capacity):\n",
    "        return f\"{self.name_of_vehicle} has a seat capacity of {capacity} people\""
   ]
  },
  {
   "cell_type": "code",
   "execution_count": 18,
   "id": "f4cdbbf3-ebb2-4f25-ad9f-93ddc8e2ab1f",
   "metadata": {},
   "outputs": [],
   "source": [
    "car= Car(\"tesla model 8\",280,150)"
   ]
  },
  {
   "cell_type": "code",
   "execution_count": 19,
   "id": "05c2d08f-577e-410d-a9ef-7cc689a7f1fe",
   "metadata": {},
   "outputs": [],
   "source": [
    "result=car.seating_capacity(4)"
   ]
  },
  {
   "cell_type": "code",
   "execution_count": 20,
   "id": "d754c026-1a8d-4d02-b89f-211f8ce29658",
   "metadata": {},
   "outputs": [
    {
     "data": {
      "text/plain": [
       "'tesla model 8 has a seat capacity of 4 people'"
      ]
     },
     "execution_count": 20,
     "metadata": {},
     "output_type": "execute_result"
    }
   ],
   "source": [
    "result"
   ]
  },
  {
   "cell_type": "code",
   "execution_count": 21,
   "id": "7788d290-7105-46dc-b7bf-164040b9a083",
   "metadata": {},
   "outputs": [],
   "source": [
    "class bike(vehicle):\n",
    "    def seating_number(self,capacity_):\n",
    "        return f\"{self.name_of_vehicle} ohas the seating capacity of {capacity_} people\""
   ]
  },
  {
   "cell_type": "code",
   "execution_count": 22,
   "id": "b7231785-49c9-4a86-9482-24cbb9b0459d",
   "metadata": {},
   "outputs": [],
   "source": [
    "Bike=bike(\"CB 100\",120,50)"
   ]
  },
  {
   "cell_type": "code",
   "execution_count": 24,
   "id": "73c94529-484c-4c8f-b392-fe023f013f9c",
   "metadata": {},
   "outputs": [],
   "source": [
    "return_=Bike.seating_number(2)"
   ]
  },
  {
   "cell_type": "code",
   "execution_count": 26,
   "id": "163a474b-9929-419a-a3f6-a68ed939cdde",
   "metadata": {},
   "outputs": [
    {
     "data": {
      "text/plain": [
       "'CB 100 ohas the seating capacity of 2 people'"
      ]
     },
     "execution_count": 26,
     "metadata": {},
     "output_type": "execute_result"
    }
   ],
   "source": [
    "return_"
   ]
  },
  {
   "cell_type": "markdown",
   "id": "c8aea9e6-bba6-4d06-b362-22d126fbe479",
   "metadata": {},
   "source": [
    "Multiple inheritance in Python refers to a feature that allows a class to inherit attributes and methods from multiple base classes. This means that a derived class can inherit from more than one parent class, combining and reusing features from multiple sources."
   ]
  },
  {
   "cell_type": "code",
   "execution_count": 29,
   "id": "1a02cfa5-30a0-4bf6-bf50-efb940ac3e58",
   "metadata": {},
   "outputs": [],
   "source": [
    "class class1:\n",
    "    def lecture_one(self):\n",
    "        print(\"this is my first class\")"
   ]
  },
  {
   "cell_type": "code",
   "execution_count": 30,
   "id": "1219502e-9a1e-4297-a2fe-c63052603e0b",
   "metadata": {},
   "outputs": [],
   "source": [
    "class class2:\n",
    "    def lecture_two(self):\n",
    "        print(\"this is my second class\")"
   ]
  },
  {
   "cell_type": "code",
   "execution_count": 41,
   "id": "c79a570f-e921-4f96-9d00-157e58b49600",
   "metadata": {},
   "outputs": [],
   "source": [
    "class class3(class1,class2):\n",
    "    def lecture_three(self):\n",
    "        pass"
   ]
  },
  {
   "cell_type": "code",
   "execution_count": 42,
   "id": "7265ac1d-0235-4488-945f-d202b7fa5b11",
   "metadata": {},
   "outputs": [],
   "source": [
    "obj_class=class3()"
   ]
  },
  {
   "cell_type": "code",
   "execution_count": 44,
   "id": "a3bebf62-96eb-43bf-980b-bd39d1f60180",
   "metadata": {},
   "outputs": [
    {
     "name": "stdout",
     "output_type": "stream",
     "text": [
      "this is my second class\n"
     ]
    }
   ],
   "source": [
    "obj_class.lecture_two()"
   ]
  },
  {
   "cell_type": "markdown",
   "id": "e4d805ef-c247-4290-b631-4bdeab5f32b5",
   "metadata": {},
   "source": [
    "# What are getter and setter in python? Create a class and create a getter and a setter method in this class.\n"
   ]
  },
  {
   "cell_type": "markdown",
   "id": "1c433b07-3326-404e-a52a-e8a9e872343c",
   "metadata": {},
   "source": [
    "In Python, getters and setters are methods that provide controlled access to class attributes or properties. They are used to retrieve (get) and modify (set) the values of private or protected attributes while encapsulating the underlying implementation.\n",
    "\n",
    "Getters, also known as accessor methods, are used to access and retrieve the value of an attribute. They provide read-only access to the attribute, allowing you to retrieve its value without directly accessing it.\n",
    "\n",
    "Setters, also known as mutator methods, are used to set or modify the value of an attribute. They provide a controlled way to update the attribute, often performing additional checks or validations before assigning a new value."
   ]
  },
  {
   "cell_type": "markdown",
   "id": "928d0134-dac4-4d26-884c-8eb5abd797bf",
   "metadata": {},
   "source": [
    "class pwskills64:\n",
    "    def __init__(self,course_name,course_price):\n",
    "        self.course_name=course_name\n",
    "        self.course_price=course_price\n",
    "        \n",
    "    @property\n",
    "    def acces_course_price(self):\n",
    "        return self.course_price\n",
    "    \n",
    "    @acces_course_price.setter\n",
    "    def set_course_price(self,new_price):\n",
    "        if new_price <= self.set_course_price:\n",
    "            pass\n",
    "        else:\n",
    "            self.course_price = new_price\n",
    "        \n",
    "            "
   ]
  },
  {
   "cell_type": "code",
   "execution_count": 68,
   "id": "fab03414-f821-41fb-8f64-b2c6dba55415",
   "metadata": {},
   "outputs": [],
   "source": [
    "pw=pwskills64(\"data science master\",3500)"
   ]
  },
  {
   "cell_type": "code",
   "execution_count": 69,
   "id": "aaaa135a-62e3-415e-9a88-191c199b61d8",
   "metadata": {},
   "outputs": [
    {
     "data": {
      "text/plain": [
       "3500"
      ]
     },
     "execution_count": 69,
     "metadata": {},
     "output_type": "execute_result"
    }
   ],
   "source": [
    "pw.acces_course_price"
   ]
  },
  {
   "cell_type": "code",
   "execution_count": 73,
   "id": "05c7538d-4b04-4813-8962-fd3741ff1d10",
   "metadata": {},
   "outputs": [],
   "source": [
    "pw.course_price=7000"
   ]
  },
  {
   "cell_type": "code",
   "execution_count": 74,
   "id": "559e49fc-7c4c-4fdb-9591-7553fc05a184",
   "metadata": {},
   "outputs": [
    {
     "data": {
      "text/plain": [
       "7000"
      ]
     },
     "execution_count": 74,
     "metadata": {},
     "output_type": "execute_result"
    }
   ],
   "source": [
    "pw.acces_course_price"
   ]
  },
  {
   "cell_type": "markdown",
   "id": "acfaa436-d1ca-42c1-a6a3-c9369888fba9",
   "metadata": {},
   "source": [
    "# Q5.What is method overriding in python? Write a python code to demonstrate method overriding."
   ]
  },
  {
   "cell_type": "markdown",
   "id": "c0b17e9f-99d0-4c9d-8d38-08b77eb264b7",
   "metadata": {},
   "source": [
    "Method overriding in Python refers to the ability of a subclass to provide its own implementation of a method that is already defined in its superclass. It allows the subclass to modify the behavior of the inherited method according to its specific requirements."
   ]
  },
  {
   "cell_type": "code",
   "execution_count": 77,
   "id": "9d559239-e9b7-4391-af18-d96a9883e990",
   "metadata": {},
   "outputs": [],
   "source": [
    "class Animal:\n",
    "    def sound(self):\n",
    "        print(\"animals makes sound\")\n",
    "        \n",
    "    "
   ]
  },
  {
   "cell_type": "code",
   "execution_count": 81,
   "id": "fd0d1d9c-9332-4695-9f38-05afefffeaf4",
   "metadata": {},
   "outputs": [],
   "source": [
    "class Dog(Animal):\n",
    "    def sound(self):\n",
    "        print(\"the dogs barks\")"
   ]
  },
  {
   "cell_type": "code",
   "execution_count": 83,
   "id": "484ec402-1a76-4d56-88ad-9cc4acb586d7",
   "metadata": {},
   "outputs": [],
   "source": [
    "animal=Animal()"
   ]
  },
  {
   "cell_type": "code",
   "execution_count": 84,
   "id": "b6304ffb-38a7-454e-a728-f0b164651ee1",
   "metadata": {},
   "outputs": [],
   "source": [
    "dog=Dog()"
   ]
  },
  {
   "cell_type": "code",
   "execution_count": 85,
   "id": "720e2da3-ec1d-40ca-872c-b15aff081884",
   "metadata": {},
   "outputs": [
    {
     "name": "stdout",
     "output_type": "stream",
     "text": [
      "the dogs barks\n"
     ]
    }
   ],
   "source": [
    "dog.sound()"
   ]
  },
  {
   "cell_type": "code",
   "execution_count": 86,
   "id": "a98f9371-d1e5-4aa8-84d2-3a452350f2af",
   "metadata": {},
   "outputs": [
    {
     "name": "stdout",
     "output_type": "stream",
     "text": [
      "animals makes sound\n"
     ]
    }
   ],
   "source": [
    "animal.sound()"
   ]
  },
  {
   "cell_type": "code",
   "execution_count": null,
   "id": "0599193b-ca9a-455f-955c-289dee2ef8c8",
   "metadata": {},
   "outputs": [],
   "source": []
  }
 ],
 "metadata": {
  "kernelspec": {
   "display_name": "Python 3 (ipykernel)",
   "language": "python",
   "name": "python3"
  },
  "language_info": {
   "codemirror_mode": {
    "name": "ipython",
    "version": 3
   },
   "file_extension": ".py",
   "mimetype": "text/x-python",
   "name": "python",
   "nbconvert_exporter": "python",
   "pygments_lexer": "ipython3",
   "version": "3.10.8"
  }
 },
 "nbformat": 4,
 "nbformat_minor": 5
}
