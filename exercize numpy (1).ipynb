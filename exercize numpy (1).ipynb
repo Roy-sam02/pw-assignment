{
 "cells": [
  {
   "cell_type": "markdown",
   "id": "36622fc7-5062-4de2-94bf-2baabb345bd7",
   "metadata": {},
   "source": [
    "List:\n",
    "A list is a built-in data type in Python. It's a collection of values that can be of any data type, including numbers, strings, other lists, and more. Lists are mutable, meaning you can modify their contents (add, remove, or change elements) after creation. Lists are quite flexible and versatile, but they might not be as efficient as specialized data structures like arrays for certain operations.\n"
   ]
  },
  {
   "cell_type": "code",
   "execution_count": 1,
   "id": "503f581c-1afd-46f5-8a94-be91b00a1ec2",
   "metadata": {},
   "outputs": [],
   "source": [
    "my_list = [1, 2, 3, 4, 5]\n"
   ]
  },
  {
   "cell_type": "markdown",
   "id": "f9ede1d6-12fd-4794-be66-50030ab90bb5",
   "metadata": {},
   "source": [
    "NumPy Array:\n",
    "A NumPy array is a part of the NumPy library, which provides support for arrays and matrices. Arrays are homogeneous, meaning they store elements of the same data type. They are more memory-efficient and faster than lists for numerical computations, especially when dealing with large datasets. NumPy arrays also offer a wide range of mathematical operations and functions optimized for numerical calculations."
   ]
  },
  {
   "cell_type": "code",
   "execution_count": 7,
   "id": "2e121590-f881-43c3-9cfe-919a94b9c271",
   "metadata": {},
   "outputs": [],
   "source": [
    "import numpy as np\n",
    "\n",
    "my_array = np.array([1, 2, 3, 4, 5])\n"
   ]
  },
  {
   "cell_type": "code",
   "execution_count": 8,
   "id": "cd0a741a-aff7-4973-a17d-45bb207c412e",
   "metadata": {},
   "outputs": [
    {
     "data": {
      "text/plain": [
       "array([1, 2, 3, 4, 5])"
      ]
     },
     "execution_count": 8,
     "metadata": {},
     "output_type": "execute_result"
    }
   ],
   "source": []
  },
  {
   "cell_type": "markdown",
   "id": "5ba5adaf-67a6-4741-a679-2805eb88d7e5",
   "metadata": {},
   "source": [
    "In summary, the key differences between lists and NumPy arrays include their mutability, memory efficiency, and the availability of specialized numerical operations. If you're working with numerical data and require efficient computation, NumPy arrays are generally a better choice. If you need a collection of different data types or need to modify the contents frequently, lists might be more appropriate.\n",
    "\n",
    "\n",
    "\n",
    "\n",
    "\n"
   ]
  },
  {
   "cell_type": "markdown",
   "id": "6d12f479-dbb7-4a5c-9fa8-05b16d4d24a9",
   "metadata": {},
   "source": [
    "# Write a code to print the data type of each and every element of both the variables list_ and arra_list.\n"
   ]
  },
  {
   "cell_type": "code",
   "execution_count": 11,
   "id": "6ed7ebae-c3e2-4d68-bb6a-0e53ec53c1d6",
   "metadata": {},
   "outputs": [
    {
     "name": "stdout",
     "output_type": "stream",
     "text": [
      "data type of elements of list are\n",
      "<class 'int'>\n",
      "<class 'int'>\n",
      "<class 'int'>\n",
      "<class 'str'>\n",
      "<class 'float'>\n",
      "data type of elements of array are\n",
      "<class 'numpy.int64'>\n",
      "<class 'numpy.int64'>\n",
      "<class 'numpy.int64'>\n",
      "<class 'numpy.int64'>\n",
      "<class 'numpy.int64'>\n"
     ]
    }
   ],
   "source": [
    "import numpy as np\n",
    "my_list=[1,2,3,'three',5.6]\n",
    "ny_array=np.array([1,2,3,4,5,6])\n",
    "print(\"data type of elements of list are\")\n",
    "for item in my_list:\n",
    "    print(type(item))\n",
    "print(\"data type of elements of array are\")\n",
    "for item in my_array:\n",
    "    print(type(item))\n",
    "\n"
   ]
  },
  {
   "cell_type": "code",
   "execution_count": 8,
   "id": "8d5bbc9a-0636-4597-bf99-3efeeb1ed32b",
   "metadata": {},
   "outputs": [
    {
     "name": "stdout",
     "output_type": "stream",
     "text": [
      "the shape of the num_array is (2, 3)\n",
      "the size of the num_arrayis  6\n"
     ]
    }
   ],
   "source": [
    "import numpy as np\n",
    "num_array=np.array([[1,2,3],[4,5,6]])\n",
    "shape=num_array.shape\n",
    "print(\"the shape of the num_array is\",shape)\n",
    "size=num_array.size\n",
    "print(\"the size of the num_arrayis \",size)"
   ]
  },
  {
   "cell_type": "markdown",
   "id": "1081804e-aac1-43a8-9d92-49b51bd62588",
   "metadata": {},
   "source": [
    "# Write a code to create numpy array of 3*3 matrix containing zeros only, using a numpy array creation function.\n"
   ]
  },
  {
   "cell_type": "code",
   "execution_count": 9,
   "id": "ab5c30ad-fb93-4494-a909-74452c5091ad",
   "metadata": {},
   "outputs": [],
   "source": [
    "null_array=np.zeros([3,3])"
   ]
  },
  {
   "cell_type": "code",
   "execution_count": 10,
   "id": "f3758454-2eb0-4b06-a3f1-9650247f4179",
   "metadata": {},
   "outputs": [
    {
     "data": {
      "text/plain": [
       "array([[0., 0., 0.],\n",
       "       [0., 0., 0.],\n",
       "       [0., 0., 0.]])"
      ]
     },
     "execution_count": 10,
     "metadata": {},
     "output_type": "execute_result"
    }
   ],
   "source": [
    "null_array"
   ]
  },
  {
   "cell_type": "markdown",
   "id": "1c24c2d5-33e6-457d-83cd-fe04b76f9f55",
   "metadata": {},
   "source": [
    "# Q6. Create an identity matrix of shape (5,5) using numpy functions?"
   ]
  },
  {
   "cell_type": "code",
   "execution_count": 14,
   "id": "fc2f662f-eded-4d0a-97d1-3f76d2272266",
   "metadata": {},
   "outputs": [],
   "source": [
    "identity_matrix=np.eye(5)"
   ]
  },
  {
   "cell_type": "code",
   "execution_count": 18,
   "id": "5467b618-3f58-4a22-b322-401fac4058bf",
   "metadata": {},
   "outputs": [
    {
     "data": {
      "text/plain": [
       "array([[1., 0., 0., 0., 0.],\n",
       "       [0., 1., 0., 0., 0.],\n",
       "       [0., 0., 1., 0., 0.],\n",
       "       [0., 0., 0., 1., 0.],\n",
       "       [0., 0., 0., 0., 1.]])"
      ]
     },
     "execution_count": 18,
     "metadata": {},
     "output_type": "execute_result"
    }
   ],
   "source": [
    "identity_matrix"
   ]
  },
  {
   "cell_type": "code",
   "execution_count": null,
   "id": "e92f3179-82a9-40b2-871f-4ad12df5db1b",
   "metadata": {},
   "outputs": [],
   "source": []
  }
 ],
 "metadata": {
  "kernelspec": {
   "display_name": "Python 3 (ipykernel)",
   "language": "python",
   "name": "python3"
  },
  "language_info": {
   "codemirror_mode": {
    "name": "ipython",
    "version": 3
   },
   "file_extension": ".py",
   "mimetype": "text/x-python",
   "name": "python",
   "nbconvert_exporter": "python",
   "pygments_lexer": "ipython3",
   "version": "3.10.8"
  }
 },
 "nbformat": 4,
 "nbformat_minor": 5
}
