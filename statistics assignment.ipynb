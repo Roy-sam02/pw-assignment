{
 "cells": [
  {
   "cell_type": "markdown",
   "id": "41327d65-9d4d-46d9-bd03-b574131c8bdc",
   "metadata": {},
   "source": [
    "## What are the three measures of central tendency?"
   ]
  },
  {
   "cell_type": "markdown",
   "id": "fd60cd8a-6be2-463e-8164-b246cfd4bf66",
   "metadata": {},
   "source": [
    "three measures of central tendency are mean median and mode"
   ]
  },
  {
   "cell_type": "markdown",
   "id": "9666fc44-9d58-4137-bea1-8b03d01dfb4a",
   "metadata": {},
   "source": [
    "Mean, Median, and Mode: Unveiling the Central Tendency\n",
    "All three terms - mean, median, and mode - measure the central tendency of a dataset, but they do so in distinct ways:\n",
    "\n",
    "Mean:\n",
    "\n",
    "Informal Definition: The \"average\" value.\n",
    "Calculation: Sum all values in the dataset and divide by the number of values.\n",
    "Focus: Sensitive to all values, especially outliers.\n",
    "Median:\n",
    "\n",
    "Informal Definition: The \"middle\" value.\n",
    "Calculation: Arrange values in ascending order (smallest to largest), and find the middle value (if odd number of values) or the average of the two middle values (if even number of values).\n",
    "Focus: Represents the center regardless of extreme values.\n",
    "Mode:\n",
    "\n",
    "Informal Definition: The value that appears most frequently.\n",
    "Calculation: Count the occurrences of each value and identify the one with the highest count.\n",
    "Focus: Represents the most common value, not necessarily the \"center.\"\n",
    "Choosing the Right Measure:\n",
    "\n",
    "The choice between mean, median, and mode depends on the nature of your data and what aspect of central tendency you want to highlight:\n",
    "\n",
    "Normal distribution: If your data is roughly symmetrical (bell-shaped curve), all three measures will be similar and any can be used.\n",
    "Skewed distribution: If your data leans towards one side, the median is less affected by outliers and better represents the \"center\" than the mean.\n",
    "Multiple modes or nominal data: If your data has multiple frequent values or is not numerical (e.g., shoe sizes), the mode might be the most relevant measure.\n"
   ]
  },
  {
   "cell_type": "markdown",
   "id": "e5bea74c-1e14-4f9a-8edf-77f1c1a65f6a",
   "metadata": {},
   "source": [
    "## Measure the three measures of central tendency for the given height data:\n",
    "[178,177,176,177,178.2,178,175,179,180,175,178.9,176.2,177,172.5,178,176.5]"
   ]
  },
  {
   "cell_type": "code",
   "execution_count": 1,
   "id": "c4455deb-93aa-4a0b-894d-5dbdbc493e46",
   "metadata": {},
   "outputs": [],
   "source": [
    "import numpy as np"
   ]
  },
  {
   "cell_type": "code",
   "execution_count": 2,
   "id": "4657209e-9b28-4b8d-b671-44ca28c5821b",
   "metadata": {},
   "outputs": [],
   "source": [
    "data = [178,177,176,177,178.2,178,175,179,180,175,178.9,176.2,177,172.5,178,176.5]"
   ]
  },
  {
   "cell_type": "code",
   "execution_count": 3,
   "id": "3342a0bf-c5c6-4431-b7bc-e7d7134e7f26",
   "metadata": {},
   "outputs": [
    {
     "data": {
      "text/plain": [
       "177.01875"
      ]
     },
     "execution_count": 3,
     "metadata": {},
     "output_type": "execute_result"
    }
   ],
   "source": [
    "np.mean(data)"
   ]
  },
  {
   "cell_type": "code",
   "execution_count": 4,
   "id": "4d874642-bdf6-4de8-8f7f-76b8710c9f18",
   "metadata": {},
   "outputs": [
    {
     "data": {
      "text/plain": [
       "177.0"
      ]
     },
     "execution_count": 4,
     "metadata": {},
     "output_type": "execute_result"
    }
   ],
   "source": [
    "np.median(data)"
   ]
  },
  {
   "cell_type": "code",
   "execution_count": 7,
   "id": "1a9d4ee1-07a5-4321-bd5e-36ca568d7f20",
   "metadata": {},
   "outputs": [],
   "source": [
    "from scipy import stats as sts"
   ]
  },
  {
   "cell_type": "code",
   "execution_count": 8,
   "id": "0596bdb7-8571-45de-a019-4b20b2311eca",
   "metadata": {},
   "outputs": [
    {
     "name": "stderr",
     "output_type": "stream",
     "text": [
      "/tmp/ipykernel_1835/2911019296.py:1: FutureWarning: Unlike other reduction functions (e.g. `skew`, `kurtosis`), the default behavior of `mode` typically preserves the axis it acts along. In SciPy 1.11.0, this behavior will change: the default value of `keepdims` will become False, the `axis` over which the statistic is taken will be eliminated, and the value None will no longer be accepted. Set `keepdims` to True or False to avoid this warning.\n",
      "  sts.mode(data)\n"
     ]
    },
    {
     "data": {
      "text/plain": [
       "ModeResult(mode=array([177.]), count=array([3]))"
      ]
     },
     "execution_count": 8,
     "metadata": {},
     "output_type": "execute_result"
    }
   ],
   "source": [
    "sts.mode(data)"
   ]
  },
  {
   "cell_type": "code",
   "execution_count": 9,
   "id": "0b6a1b23-7750-4783-86ea-b57426139744",
   "metadata": {},
   "outputs": [
    {
     "data": {
      "text/plain": [
       "1.7885814036548633"
      ]
     },
     "execution_count": 9,
     "metadata": {},
     "output_type": "execute_result"
    }
   ],
   "source": [
    "np.std(data)"
   ]
  },
  {
   "cell_type": "markdown",
   "id": "35a5a569-4b22-44cd-ba42-6da541a04f20",
   "metadata": {},
   "source": [
    "Measures of dispersion, like range, variance, and standard deviation, shed light on how spread out the data points are in a dataset. They quantify the variability or scatter around a central tendency measure (like mean or median). Here's a breakdown of each measure and an example:\n",
    "\n",
    "1. Range:\n",
    "\n",
    "Definition: Simply the difference between the maximum and minimum values in the dataset.\n",
    "Interpretation: Easy to understand but sensitive to outliers. A large range indicates high spread, while a small range suggests data clustered together.\n",
    "Example: Consider the exam scores of 10 students: {50, 65, 70, 75, 80, 85, 90, 95, 100}. The range is 100 - 50 = 50. This tells us the scores span a wide range with a potential for significant variation.\n",
    "2. Variance:\n",
    "\n",
    "Definition: Measures the average squared deviation of each data point from the mean.\n",
    "Interpretation: Reflects the overall spread, less sensitive to outliers than range. Higher variance indicates greater dispersion, while lower variance implies data points are closer to the mean.\n",
    "Example: Using the same exam scores, the variance might be around 728.33. This suggests, on average, scores deviate from the mean (around 77.5) by roughly 27 points, indicating some spread but not as extreme as the range suggests.\n",
    "3. Standard Deviation:\n",
    "\n",
    "Definition: The square root of the variance.\n",
    "Interpretation: Similar to variance but in the same units as the original data, making it easier to understand and compare across datasets. A high standard deviation implies wider spread, while a low one suggests tighter clustering.\n",
    "Example: The standard deviation for the exam scores might be around 27. This tells us, on average, individual scores fall within 27 points of the mean, showcasing a moderate spread in performance."
   ]
  },
  {
   "cell_type": "markdown",
   "id": "89031283-979a-470b-b69a-5e32c95e4639",
   "metadata": {},
   "source": [
    "A Venn diagram is a visual representation of the relationships between sets of things. It uses overlapping circles or other shapes to depict how elements belong to different sets and how they might share commonalities.\n",
    "\n",
    "Here are some key points about Venn diagrams:\n",
    "\n",
    "Circles represent sets: Each circle represents a set of items with some shared characteristics.\n",
    "Overlapping areas represent shared elements: Areas where circles overlap show elements that belong to both sets.\n",
    "Non-overlapping areas represent unique elements: Areas outside the overlap show elements that belong to only one set or neither.\n",
    "Complexity: Venn diagrams can be simple with just two or three sets (circles), or more complex with multiple sets and intricate overlaps.\n",
    "Venn diagrams are commonly used in various fields to:\n",
    "\n",
    "Compare and contrast: Highlight similarities and differences between sets of data.\n",
    "Visualize logical relationships: Show how elements relate to each other based on set membership.\n",
    "Organize information: Group and categorize items based on shared characteristics.\n",
    "Simplify complex relationships: Make abstract concepts easier to understand visually."
   ]
  },
  {
   "cell_type": "markdown",
   "id": "287825cd-bfc0-492c-bf00-e6f63e8a7ac8",
   "metadata": {},
   "source": [
    "\n",
    "(i) A ∩ B: {2, 6}\n",
    "(ii) A ∪ B: {0, 2, 3, 4, 5, 6, 7, 8, 10}"
   ]
  },
  {
   "cell_type": "markdown",
   "id": "b450799a-71d6-47f4-ae3a-7b1cec4d0ce4",
   "metadata": {},
   "source": [
    "\n",
    "I'm happy to answer your questions about statistics! Here's my understanding of each one:\n",
    "\n",
    "Q8. Skewness in data:\n",
    "\n",
    "Skewness refers to the asymmetry of a probability distribution. A perfectly symmetrical distribution (like a normal curve) has zero skewness. When a distribution is right-skewed, the \"tail\" extends longer towards the higher values, and the mean is greater than the median. Conversely, a left-skewed distribution has a longer tail towards lower values, and the median is larger than the mean. Skewness is important because it can affect the validity of certain statistical tests and the interpretation of results.\n",
    "\n",
    "Q9. Right-skewed data and median vs. mean:\n",
    "\n",
    "As mentioned above, in a right-skewed distribution, the median will be smaller than the mean. This is because the longer tail towards higher values pulls the mean upward while the middle value (median) remains closer to the center of the bulk of the data.\n",
    "\n",
    "Q10. Covariance vs. correlation:\n",
    "\n",
    "Covariance: Measures the linear relationship between two variables, indicating whether they tend to move together (positive) or in opposite directions (negative). Its units are the product of the units of the two variables.\n",
    "Correlation: Measures the strength of the linear relationship between two variables, scaled between -1 and 1. It's dimensionless and independent of the units of the variables.\n",
    "Statistical analysis:\n",
    "\n",
    "Covariance can be used to detect non-linear relationships as well, but correlation focuses specifically on the linear aspect.\n",
    "Correlation is often preferred for interpretation and comparison across different datasets due to its standardized scale.\n",
    "Q11. Sample mean formula and example:\n",
    "\n",
    "The formula for the sample mean (average) is:\n",
    "\n",
    "Mean = Σ(x_i) / n\n",
    "\n",
    "where:\n",
    "\n",
    "Σ (sigma) represents the sum of all values\n",
    "x_i is each individual value in the dataset\n",
    "n is the total number of values\n",
    "Example: Consider a dataset: {2, 5, 7, 10, 12}.\n",
    "\n",
    "Mean = (2 + 5 + 7 + 10 + 12) / 5 = 7.2\n",
    "\n",
    "Q12. Normal distribution and central tendency measures:\n",
    "\n",
    "In a normal distribution, the mean, median, and mode all coincide at the same point, indicating perfect symmetry. This is because the bell-shaped curve represents an equal distribution of data points around the central value."
   ]
  },
  {
   "cell_type": "markdown",
   "id": "77e5c0e5-41a8-402a-9a53-0940f584c185",
   "metadata": {},
   "source": [
    "Q14. Outliers and their impact:\n",
    "\n",
    "Outliers are data points that significantly deviate from the rest of the data. They can affect both measures of central tendency and dispersion:\n",
    "\n",
    "Central tendency: Outliers can pull the mean towards themselves, especially if they are extreme values. The median is generally less affected by outliers, but they can still influence its position depending on their location.\n",
    "Dispersion: Outliers inflate measures like variance and standard deviation, making the data appear more spread out than it actually is. This can mask the true underlying distribution of the majority of data points.\n",
    "Example: Consider a dataset of exam scores: {60, 70, 75, 80, 85, 90, 100}. If there's an outlier like 50 due to exceptional circumstances, the mean might drop closer to 50, and the standard deviation would increase significantly due to the large deviation of the outlier."
   ]
  },
  {
   "cell_type": "code",
   "execution_count": null,
   "id": "600f555c-c056-41c8-a11c-4befc3c12c97",
   "metadata": {},
   "outputs": [],
   "source": []
  }
 ],
 "metadata": {
  "kernelspec": {
   "display_name": "Python 3 (ipykernel)",
   "language": "python",
   "name": "python3"
  },
  "language_info": {
   "codemirror_mode": {
    "name": "ipython",
    "version": 3
   },
   "file_extension": ".py",
   "mimetype": "text/x-python",
   "name": "python",
   "nbconvert_exporter": "python",
   "pygments_lexer": "ipython3",
   "version": "3.10.8"
  }
 },
 "nbformat": 4,
 "nbformat_minor": 5
}
