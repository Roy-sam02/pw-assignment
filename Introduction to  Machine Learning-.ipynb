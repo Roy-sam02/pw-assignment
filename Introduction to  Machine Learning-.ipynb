{
 "cells": [
  {
   "cell_type": "markdown",
   "id": "c354f089-b7d9-4d9b-869d-a7a1e6864160",
   "metadata": {},
   "source": [
    "### D- E=plain thK followin* with an EXAMPLE-F\n",
    "## C) Artificial IntKlli*KncJ\n",
    "## <) MachinK LKarnin,\n",
    "## I) DKKp LKarning \"\"\""
   ]
  },
  {
   "cell_type": "raw",
   "id": "ff5e9e20-b98b-4cc2-8f81-0454e4f75498",
   "metadata": {},
   "source": [
    "AI refers to the simulation of human intelagence in the machines\n",
    "ex : Alexa and siri performing tasks like question solving"
   ]
  },
  {
   "cell_type": "raw",
   "id": "887c58c4-2277-484b-9657-7ab07ce7c5df",
   "metadata": {},
   "source": [
    "Mechine Learning is the subset of the AI field where mechin performs human like tasks without being explicitively programing\n",
    "ex :- A spam filter learning to identify spam emails based on past data."
   ]
  },
  {
   "cell_type": "raw",
   "id": "a2656b56-c5ad-4eed-9ad8-0110074cbc8e",
   "metadata": {},
   "source": [
    "DL is the subset of the ML that uses nural networks with many layers to analysis complex data patters\n",
    " ex : -Self-driving cars using deep learning to recognize objects on the road."
   ]
  },
  {
   "cell_type": "markdown",
   "id": "5b77ffc2-aeb9-442c-9ff2-203603caca4b",
   "metadata": {},
   "source": [
    "## 2- What is supKrvisKd lKarnin*? List somK K=amplKs of supKrvisKd lKarnin*."
   ]
  },
  {
   "cell_type": "raw",
   "id": "6beb8d88-2503-45dd-a7a7-b67917a9db43",
   "metadata": {},
   "source": [
    "SUPER VISED learning is a kind of mechine learning where the model is trained with the labled data . The algorithm learns to map the  input data to correct output data by using this lables . And the target is to predict the output over unseen data "
   ]
  },
  {
   "cell_type": "markdown",
   "id": "cf459e98-2055-40e5-a72e-f0d9e2fc3191",
   "metadata": {},
   "source": [
    "ex :- Email Spam Detection: Classifying emails as \"spam\" or \"not spam.\"\n",
    "\n",
    "Image Classification: Identifying objects in an image, like \"cat\" or \"dog.\"\n",
    "\n",
    "Fraud Detection: Predicting if a transaction is fraudulent based on historical labeled data.\n",
    "\n",
    "House Price Prediction: Estimating house prices based on features like location, size, and number of rooms."
   ]
  },
  {
   "cell_type": "markdown",
   "id": "53fab875-fffd-47c1-b66d-d2c41ac8d3c5",
   "metadata": {},
   "source": [
    "## Q3- GWhat is unsupKrvisKd lKarnin*? List somK K=amplKs of unsupKrvisKd lKarnin*."
   ]
  },
  {
   "cell_type": "raw",
   "id": "95ae60f5-52ea-401b-bf69-4c385c000e4e",
   "metadata": {},
   "source": [
    "The usupervised learning is a kind of mechine learning algorithm where there is no lable on the data set . The algorithm  tries find the hidden patterns and structures without the prior nowledge of the data "
   ]
  },
  {
   "cell_type": "raw",
   "id": "518e5115-c772-4d5f-b98d-26ed4a1bf9a6",
   "metadata": {},
   "source": [
    "ex :- Dimensionality Reduction: Reducing the complexity of data while retaining important information, like using PCA (Principal Component Analysis)."
   ]
  },
  {
   "cell_type": "markdown",
   "id": "ae27e991-65fd-44c8-9584-6c8fc8b37345",
   "metadata": {},
   "source": [
    "## 4- What is thK diffKrKncK bKtwKKn AI, ML, DL, and DS? "
   ]
  },
  {
   "cell_type": "markdown",
   "id": "35e3cb47-a817-4d29-9e51-756bac0b8af6",
   "metadata": {},
   "source": [
    "Artificial Intelligence (AI):\n",
    "AI is a broad field that focuses on creating machines capable of mimicking human intelligence and performing tasks such as reasoning, learning, problem-solving, and understanding language.\n",
    "Example: Virtual assistants like Siri and Alexa.\n",
    "\n",
    "Machine Learning (ML):\n",
    "ML is a subset of AI where algorithms are trained on data to recognize patterns and make predictions or decisions without being explicitly programmed.\n",
    "Example: Predicting stock prices based on historical data.\n",
    "\n",
    "Deep Learning (DL):\n",
    "DL is a further subset of ML that uses neural networks with many layers to process complex data patterns. It is especially effective for tasks like image and speech recognition.\n",
    "Example: Self-driving cars identifying road signs and pedestrians.\n",
    "\n",
    "Data Science (DS):\n",
    "DS is an interdisciplinary field that combines techniques from statistics, computer science, and domain knowledge to extract insights from data. It often uses AI and ML to analyze and interpret large datasets.\n",
    "Example: Analyzing customer behavior to improve product recommendations.\n",
    "\n",
    "Summary:\n",
    "\n",
    "AI: Broad concept of intelligent machines.\n",
    "\n",
    "ML: AI subset focused on learning from data.\n",
    "\n",
    "DL: ML subset using deep neural networks.\n",
    "\n",
    "DS: Field focused on extracting insights from data, using AI and ML as tools."
   ]
  },
  {
   "cell_type": "raw",
   "id": "c6892732-77f9-419c-8df1-667af10b7454",
   "metadata": {},
   "source": [
    "5- What arK thK main diffKrKncKs bKtwKKn supKrvisKd, unsupKrvisKd, and sKmi-supKrvisKd lKarnin*?"
   ]
  },
  {
   "cell_type": "raw",
   "id": "2fca6cbc-2c2c-4d3d-8be9-0b998a2e2676",
   "metadata": {},
   "source": [
    "Supervised Learning:\n",
    "\n",
    "Data Type: Uses labeled data (input-output pairs).\n",
    "\n",
    "Goal: The algorithm learns to map input to output by understanding patterns in the labeled data.\n",
    "\n",
    "Example: Predicting house prices based on features like location and size, with the actual house prices provided in the training data.\n",
    "Unsupervised Learning:\n",
    "\n",
    "Data Type: Uses unlabeled data (only inputs, no corresponding outputs).\n",
    "\n",
    "Goal: The algorithm identifies hidden patterns, structures, or groupings within the data without any prior knowledge.\n",
    "\n",
    "Example: Customer segmentation in marketing without knowing the predefined customer categories.\n",
    "Semi-supervised Learning:\n",
    "\n",
    "\n",
    "Data Type: Uses a mix of both labeled and unlabeled data (usually, a small amount of labeled data and a large amount of unlabeled data).\n",
    "Goal: The algorithm uses the small labeled dataset to guide learning and makes better predictions by leveraging the larger, unlabeled dataset.\n",
    "Example: Image classification where only a few images are labeled, and the model learns to classify new images by leveraging both labeled and unlabeled images.\n",
    "Key Differences:\n",
    "\n",
    "Supervised Learning: Requires fully labeled data.\n",
    "\n",
    "Unsupervised Learning: No labels are used; the goal is to find hidden structures.\n",
    "\n",
    "Semi-supervised Learning: Uses a combination of a small amount of labeled data and a large amount of unlabeled data for better performance."
   ]
  },
  {
   "cell_type": "markdown",
   "id": "df33fdca-3163-4e9c-ba94-4e15fb3ac7d8",
   "metadata": {},
   "source": [
    "## 6- What is train, tKst and validation split? E=plain thK importancK of Kach tKrm"
   ]
  },
  {
   "cell_type": "markdown",
   "id": "9dee21da-e51a-4512-bd27-b94bfa7b4ca3",
   "metadata": {},
   "source": [
    "Train, Test, and Validation Split are key concepts in machine learning, used to evaluate the performance of models effectively. Here’s what each term means:\n",
    "\n",
    "Training Set:\n",
    "\n",
    "Definition: The dataset used to train the machine learning model. The model learns patterns and relationships from this data.\n",
    "Importance: This is where the model is built. The algorithm adjusts its internal parameters (weights) based on the input-output relationships in the training set.\n",
    "Validation Set:\n",
    "\n",
    "Definition: A separate portion of the data used to tune hyperparameters (settings like learning rate, depth of a model, etc.) and prevent overfitting. It’s often used in models like cross-validation.\n",
    "Importance: Helps in model selection and fine-tuning. It provides a preliminary evaluation of the model's performance, indicating whether the model is generalizing well or overfitting to the training data.\n",
    "Test Set:\n",
    "\n",
    "Definition: A completely independent dataset used after the model has been trained and validated. It evaluates the final performance of the model.\n",
    "Importance: This set provides an unbiased assessment of how the model will perform on unseen data, ensuring that the model's accuracy is reliable and generalizable.\n",
    "Why These Splits Are Important:\n",
    "\n",
    "Training Set: Ensures the model learns from the data.\n",
    "Validation Set: Allows for hyperparameter tuning and helps prevent overfitting, ensuring that the model doesn’t just memorize the training data.\n",
    "Test Set: Provides an accurate measure of how the model will perform on real-world, unseen data, ensuring it generalizes well to new situations."
   ]
  },
  {
   "cell_type": "markdown",
   "id": "9b6947ec-6b7f-4cda-b0da-8cd29ea003a4",
   "metadata": {},
   "source": [
    "## Q7- How can unsupKrvisKd lKarnin* bK usKd in anomaly dKtKction?"
   ]
  },
  {
   "cell_type": "raw",
   "id": "f2c0ed0f-2b71-4071-840c-bfafc88073c3",
   "metadata": {},
   "source": [
    "Unsupervised learning in anomaly detection works by identifying patterns in the data and flagging data points that deviate from these patterns as anomalies. Common methods include:\n",
    "\n",
    "Clustering (e.g., K-means): Anomalies are points that don't fit into any cluster.\n",
    "\n",
    "Density-based Methods (e.g., Isolation Forest): Anomalies are points in low-density regions.\n",
    "\n",
    "Dimensionality Reduction (e.g., PCA): Anomalies are points poorly represented in the reduced data space.\n",
    "These methods are effective when labeled data for anomalies is not available."
   ]
  },
  {
   "cell_type": "markdown",
   "id": "b76c713d-24c3-44d1-87d7-11f75d082190",
   "metadata": {},
   "source": [
    " ### 8- List down somK commonly usKd supKrvisKd lKarnin* al*orithms and unsupKrvisKd lKarnin* \n",
    "### al*orithms."
   ]
  },
  {
   "cell_type": "markdown",
   "id": "6a0c459c-6ed3-4a62-be69-bed5b2b9d71d",
   "metadata": {},
   "source": [
    "Supervised Learning Algorithms:\n",
    "\n",
    "Linear Regression: For predicting continuous outcomes.\n",
    "\n",
    "Logistic Regression: For binary classification tasks.\n",
    "\n",
    "Decision Trees: For classification and regression.\n",
    "\n",
    "Random Forest: An ensemble method for improving decision trees.\n",
    "\n",
    "Support Vector Machines (SVM): For classification and regression.\n",
    "\n",
    "k-Nearest Neighbors (k-NN): For classification based on proximity.\n",
    "\n",
    "Gradient Boosting (e.g., XGBoost, LightGBM): Powerful models for structured data.\n",
    "\n",
    "Unsupervised Learning Algorithms:\n",
    "\n",
    "K-means Clustering: For grouping similar data points.\n",
    "\n",
    "Hierarchical Clustering: To build nested clusters.\n",
    "\n",
    "DBSCAN (Density-Based Clustering): For clustering based on data density.\n",
    "\n",
    "Principal Component Analysis (PCA): For dimensionality reduction.\n",
    "\n",
    "Autoencoders: Neural networks for feature learning and dimensionality reduction.\n",
    "\n",
    "Gaussian Mixture Models (GMM): For probabilistic clustering."
   ]
  },
  {
   "cell_type": "code",
   "execution_count": null,
   "id": "71ce1d66-3bb3-4fd3-bffd-86d804ddc9a9",
   "metadata": {},
   "outputs": [],
   "source": []
  }
 ],
 "metadata": {
  "kernelspec": {
   "display_name": "Python 3 (ipykernel)",
   "language": "python",
   "name": "python3"
  },
  "language_info": {
   "codemirror_mode": {
    "name": "ipython",
    "version": 3
   },
   "file_extension": ".py",
   "mimetype": "text/x-python",
   "name": "python",
   "nbconvert_exporter": "python",
   "pygments_lexer": "ipython3",
   "version": "3.10.8"
  }
 },
 "nbformat": 4,
 "nbformat_minor": 5
}
