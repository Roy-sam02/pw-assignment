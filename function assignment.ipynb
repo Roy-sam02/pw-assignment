{
 "cells": [
  {
   "cell_type": "markdown",
   "id": "a0cb9cc4-ca12-446d-a407-c6f11fd35d71",
   "metadata": {},
   "source": [
    "# 1 Which keyword is used to create a function? Create a function to return a list of odd numbers in the range of 1 to 25.\n"
   ]
  },
  {
   "cell_type": "markdown",
   "id": "eb76fb32-b1b3-451a-b1d2-eefd5938a30a",
   "metadata": {},
   "source": [
    "the keywar that is used to creat a function is 'def'"
   ]
  },
  {
   "cell_type": "code",
   "execution_count": 1,
   "id": "ae547b9a-13e1-4116-b385-fbc9821e6fc8",
   "metadata": {},
   "outputs": [],
   "source": [
    "def test1():\n",
    "    l=[]\n",
    "    for i in range(26):\n",
    "        if (i%2!=0):\n",
    "            l.append(i)\n",
    "    return l\n",
    "            "
   ]
  },
  {
   "cell_type": "code",
   "execution_count": 2,
   "id": "4ea2a68e-b500-4a63-b729-115959c6f106",
   "metadata": {},
   "outputs": [
    {
     "data": {
      "text/plain": [
       "[1, 3, 5, 7, 9, 11, 13, 15, 17, 19, 21, 23, 25]"
      ]
     },
     "execution_count": 2,
     "metadata": {},
     "output_type": "execute_result"
    }
   ],
   "source": [
    "test1()"
   ]
  },
  {
   "cell_type": "markdown",
   "id": "1b237960-0f45-4a8e-8b60-d18f77bf05cc",
   "metadata": {},
   "source": [
    "# 2 Why *args and **kwargs is used in some functions?  Create a function each for *args and **kwargs to demonstrate their use.\n"
   ]
  },
  {
   "cell_type": "markdown",
   "id": "56b88420-0499-4103-ba32-4de4931fe0fa",
   "metadata": {},
   "source": [
    "*args operator allowes the function to take any number of argument in advance. it helps a fuction when we dont know how many arguments will be passed\n",
    "to the function. The arguments are packed into a tuple which can be accesable through their index."
   ]
  },
  {
   "cell_type": "markdown",
   "id": "446bb0ad-da3f-4a35-b8d4-c5482724a153",
   "metadata": {},
   "source": [
    "**keywars are used when someone is using a keyword argument . this is helpful when you are passing a variable number of named arguments. this are guments are packed into a \n",
    "disctionary where the keys are the argument name and the variables are the argument values"
   ]
  },
  {
   "cell_type": "code",
   "execution_count": 3,
   "id": "da226ad6-3f94-420b-8b6c-99eea69749a1",
   "metadata": {},
   "outputs": [],
   "source": [
    "def test5(*args,**keyvar):\n",
    "    l=[]\n",
    "    return args,keyvar\n",
    "    "
   ]
  },
  {
   "cell_type": "code",
   "execution_count": 4,
   "id": "2bf1bcd7-1949-4aba-8556-d5441c4ca344",
   "metadata": {},
   "outputs": [
    {
     "data": {
      "text/plain": [
       "((1, 2, 3, 4, 5), {'a': [1, 2, 5, 8, 7], 'b': ('soum', 'pwskill', 'sudh')})"
      ]
     },
     "execution_count": 4,
     "metadata": {},
     "output_type": "execute_result"
    }
   ],
   "source": [
    "test5(1,2,3,4,5,a=[1,2,5,8,7],b=('soum','pwskill','sudh'))"
   ]
  },
  {
   "cell_type": "markdown",
   "id": "b23a5337-ea52-4303-9365-a2be41bf1b7c",
   "metadata": {},
   "source": [
    "# 4.  What is a generator function in python? Why yield keyword is used? Give an example of a generator\n",
    "function."
   ]
  },
  {
   "cell_type": "markdown",
   "id": "bc2fabe6-c347-4b15-9119-a94c6b2c4bd0",
   "metadata": {},
   "source": [
    "In python generator operator are one kind of function using the 'yield' operator which helpes a sequence of data to be generated onvce at a time.\n",
    "Not like other function which returns  the total answer at the last of the process it gives a iterator value which is used farther to give the other\n",
    " answers of that particular codes."
   ]
  },
  {
   "cell_type": "markdown",
   "id": "466dca60-5312-4655-9617-7257ecf34c15",
   "metadata": {},
   "source": [
    "The yield keyword is used in a generator function to specify the values to be generated. When the generator function is called, it returns an iterator object. When the iterator's "
   ]
  },
  {
   "cell_type": "code",
   "execution_count": 5,
   "id": "790f7135-78f9-4118-95dd-e7a49338c9d5",
   "metadata": {},
   "outputs": [],
   "source": [
    "def fibonasi_seq():\n",
    "    a,b=0,1\n",
    "    for i in range(26):\n",
    "        yield a\n",
    "        a,b=b,a+b"
   ]
  },
  {
   "cell_type": "code",
   "execution_count": 6,
   "id": "eaf8aa67-217d-41ac-a3ff-c48f0f0e4d15",
   "metadata": {},
   "outputs": [
    {
     "data": {
      "text/plain": [
       "<generator object fibonasi_seq at 0x7f38e9b152a0>"
      ]
     },
     "execution_count": 6,
     "metadata": {},
     "output_type": "execute_result"
    }
   ],
   "source": [
    "fibonasi_seq()"
   ]
  },
  {
   "cell_type": "code",
   "execution_count": 7,
   "id": "2259755f-85ef-4577-ab4d-a74ed87fa7fc",
   "metadata": {},
   "outputs": [
    {
     "name": "stdout",
     "output_type": "stream",
     "text": [
      "0\n",
      "1\n",
      "1\n",
      "2\n",
      "3\n",
      "5\n",
      "8\n",
      "13\n",
      "21\n",
      "34\n",
      "55\n",
      "89\n",
      "144\n",
      "233\n",
      "377\n",
      "610\n",
      "987\n",
      "1597\n",
      "2584\n",
      "4181\n",
      "6765\n",
      "10946\n",
      "17711\n",
      "28657\n",
      "46368\n",
      "75025\n"
     ]
    }
   ],
   "source": [
    "for i in fibonasi_seq():\n",
    "    print(i)"
   ]
  },
  {
   "cell_type": "markdown",
   "id": "5762f786-dbe6-4fce-9006-b9689ca100e7",
   "metadata": {},
   "source": [
    " # 5 Create a generator function for prime numbers less than 1000. Use the next() method to print the first 20 prime numbers.\n"
   ]
  },
  {
   "cell_type": "code",
   "execution_count": 21,
   "id": "ec03b626-74e3-42a8-a38e-aebaab465d44",
   "metadata": {},
   "outputs": [],
   "source": [
    "def prime_generator():\n",
    "    yield 2\n",
    "    primes=[2]\n",
    "    num =3\n",
    "    while num <=1000:\n",
    "         for i in primes:\n",
    "            is_true=True\n",
    "            if num % i==0:\n",
    "                is_true=False\n",
    "                break\n",
    "            if is_true:\n",
    "                yield num\n",
    "                primes.append(num)\n",
    "            num+=2\n",
    "   "
   ]
  },
  {
   "cell_type": "code",
   "execution_count": null,
   "id": "19dd8f17-6b30-4f7d-8c01-eb1a2abe3e22",
   "metadata": {},
   "outputs": [],
   "source": []
  },
  {
   "cell_type": "code",
   "execution_count": 22,
   "id": "4d99112e-86c5-4089-ad56-143ab9053c2b",
   "metadata": {},
   "outputs": [
    {
     "name": "stdout",
     "output_type": "stream",
     "text": [
      "2\n",
      "3\n",
      "5\n",
      "7\n",
      "9\n",
      "11\n",
      "13\n",
      "15\n",
      "17\n",
      "19\n",
      "21\n",
      "23\n",
      "25\n",
      "27\n",
      "29\n",
      "31\n",
      "33\n",
      "35\n",
      "37\n",
      "39\n"
     ]
    }
   ],
   "source": [
    "prime_gen = prime_generator()\n",
    "for j in range(20):\n",
    "    print(next(prime_gen))"
   ]
  },
  {
   "cell_type": "markdown",
   "id": "3c6977a4-f4f1-42e5-ac05-b9ff167172b2",
   "metadata": {},
   "source": [
    " # 4 What is an iterator in python? Name the method used to initialise the iterator object and the method used for iteration. Use these methods to print the first five elements of the given list [2, 4, 6, 8, 10, 12, 14, 16,\n",
    "18, 20].\n"
   ]
  },
  {
   "cell_type": "markdown",
   "id": "c0d89525-c1d2-432d-960c-149f87073816",
   "metadata": {},
   "source": [
    "In Python, an iterator is an object that implements the iterator protocol, which consists of two methods: __iter__() and __next__().\n",
    "\n",
    "The __iter__() method is used to initialize an iterator object. It returns the iterator object itself and is called when you want to iterate over the elements of an iterable.\n",
    "\n",
    "The __next__() method is used to retrieve the next element from the iterator. It returns the next element in the iteration, and if there are no more elements, it raises the StopIteration exception."
   ]
  },
  {
   "cell_type": "code",
   "execution_count": 36,
   "id": "3abf3030-d115-46bb-ae33-d5f4ff0f216d",
   "metadata": {},
   "outputs": [
    {
     "name": "stdout",
     "output_type": "stream",
     "text": [
      "2\n",
      "4\n",
      "6\n",
      "8\n",
      "10\n"
     ]
    }
   ],
   "source": [
    "my_list = [2, 4, 6, 8, 10, 12, 14, 16, 18, 20]\n",
    "my_iterator = iter(my_list)  # Initializing the iterator object\n",
    "\n",
    "for j in range(5):\n",
    "    element = next(my_iterator)  # Retrieving the next element from the iterator\n",
    "    print(element)\n"
   ]
  },
  {
   "cell_type": "code",
   "execution_count": null,
   "id": "222d77d9-d193-4da5-a730-193a9f4cc3c9",
   "metadata": {},
   "outputs": [],
   "source": []
  },
  {
   "cell_type": "code",
   "execution_count": null,
   "id": "8610e26c-09ed-4245-9f5e-4f6cbd485727",
   "metadata": {},
   "outputs": [],
   "source": []
  }
 ],
 "metadata": {
  "kernelspec": {
   "display_name": "Python 3 (ipykernel)",
   "language": "python",
   "name": "python3"
  },
  "language_info": {
   "codemirror_mode": {
    "name": "ipython",
    "version": 3
   },
   "file_extension": ".py",
   "mimetype": "text/x-python",
   "name": "python",
   "nbconvert_exporter": "python",
   "pygments_lexer": "ipython3",
   "version": "3.10.8"
  }
 },
 "nbformat": 4,
 "nbformat_minor": 5
}
