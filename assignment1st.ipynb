{
 "cells": [
  {
   "cell_type": "code",
   "execution_count": null,
   "id": "2b7d39dc-34bc-4d0e-8a6c-8f4c264e4c76",
   "metadata": {},
   "outputs": [],
   "source": []
  },
  {
   "cell_type": "code",
   "execution_count": 1,
   "id": "9c9a63d0-c6fa-4000-bba4-768de21fb9ab",
   "metadata": {},
   "outputs": [],
   "source": [
    "#question number 1"
   ]
  },
  {
   "cell_type": "code",
   "execution_count": 2,
   "id": "8cde8e34-3f1e-4d70-bfef-d69e3f4ff1c9",
   "metadata": {},
   "outputs": [],
   "source": [
    "s=\"soumyadeep\""
   ]
  },
  {
   "cell_type": "code",
   "execution_count": 3,
   "id": "cfea9c40-ac77-4f3f-bb8c-97c1d452b2e7",
   "metadata": {},
   "outputs": [
    {
     "data": {
      "text/plain": [
       "str"
      ]
     },
     "execution_count": 3,
     "metadata": {},
     "output_type": "execute_result"
    }
   ],
   "source": [
    "#this is a string data type\n",
    "type(s)"
   ]
  },
  {
   "cell_type": "code",
   "execution_count": 4,
   "id": "f8e014f2-b0e5-4594-a211-0f01afc05fc3",
   "metadata": {},
   "outputs": [],
   "source": [
    "l=[54946]"
   ]
  },
  {
   "cell_type": "code",
   "execution_count": 5,
   "id": "2aeea1b9-1b5a-4673-a59c-0c03e4b0fdd0",
   "metadata": {},
   "outputs": [
    {
     "data": {
      "text/plain": [
       "list"
      ]
     },
     "execution_count": 5,
     "metadata": {},
     "output_type": "execute_result"
    }
   ],
   "source": [
    "#this is a list data type\n",
    "type(l)"
   ]
  },
  {
   "cell_type": "code",
   "execution_count": 6,
   "id": "10eb5231-0de4-46e1-a4dc-1198fce01af4",
   "metadata": {},
   "outputs": [],
   "source": [
    "e=5.145"
   ]
  },
  {
   "cell_type": "code",
   "execution_count": 7,
   "id": "3fbc857e-2010-4257-a927-81b5f71160f8",
   "metadata": {},
   "outputs": [
    {
     "data": {
      "text/plain": [
       "float"
      ]
     },
     "execution_count": 7,
     "metadata": {},
     "output_type": "execute_result"
    }
   ],
   "source": [
    "#this is a float data type\n",
    "type(e)"
   ]
  },
  {
   "cell_type": "code",
   "execution_count": 8,
   "id": "49c487b5-ab17-4474-aaea-6a59cd764733",
   "metadata": {},
   "outputs": [],
   "source": [
    "p=(2548,'soumyadeeproy007@gmail.com')"
   ]
  },
  {
   "cell_type": "code",
   "execution_count": 9,
   "id": "ce7a4ab7-7b33-4021-828d-4798493405e9",
   "metadata": {},
   "outputs": [
    {
     "data": {
      "text/plain": [
       "tuple"
      ]
     },
     "execution_count": 9,
     "metadata": {},
     "output_type": "execute_result"
    }
   ],
   "source": [
    "#this is a tuple data type\n",
    "type(p)"
   ]
  },
  {
   "cell_type": "code",
   "execution_count": 10,
   "id": "a0a6e75d-b7a1-40b2-a196-46ec5f0dabdf",
   "metadata": {},
   "outputs": [],
   "source": [
    "#question number 2"
   ]
  },
  {
   "cell_type": "code",
   "execution_count": 11,
   "id": "f638844a-1513-417e-bdac-28cad58e41ff",
   "metadata": {},
   "outputs": [],
   "source": [
    "var1=' '"
   ]
  },
  {
   "cell_type": "code",
   "execution_count": 12,
   "id": "9d492b25-1dde-4dfa-a9d3-4dcd3b500207",
   "metadata": {},
   "outputs": [
    {
     "data": {
      "text/plain": [
       "str"
      ]
     },
     "execution_count": 12,
     "metadata": {},
     "output_type": "execute_result"
    }
   ],
   "source": [
    "type(var1)"
   ]
  },
  {
   "cell_type": "code",
   "execution_count": 13,
   "id": "3b43772e-a812-4074-aaee-cd0cfd7fe074",
   "metadata": {},
   "outputs": [],
   "source": [
    "var2='[DS,ML,PYTHON]'"
   ]
  },
  {
   "cell_type": "code",
   "execution_count": 14,
   "id": "c55cdcef-3678-4b6d-804c-5cbc9a05d82a",
   "metadata": {},
   "outputs": [
    {
     "data": {
      "text/plain": [
       "str"
      ]
     },
     "execution_count": 14,
     "metadata": {},
     "output_type": "execute_result"
    }
   ],
   "source": [
    "type(var2)"
   ]
  },
  {
   "cell_type": "code",
   "execution_count": 15,
   "id": "76e7bf27-0e59-4439-9047-5844e0aa9f03",
   "metadata": {},
   "outputs": [],
   "source": [
    "var3=['DS','ML','PYTHON']"
   ]
  },
  {
   "cell_type": "code",
   "execution_count": 16,
   "id": "b447bdb5-4e75-43da-b886-a27a21a0353f",
   "metadata": {},
   "outputs": [
    {
     "data": {
      "text/plain": [
       "list"
      ]
     },
     "execution_count": 16,
     "metadata": {},
     "output_type": "execute_result"
    }
   ],
   "source": [
    "type(var3)"
   ]
  },
  {
   "cell_type": "code",
   "execution_count": 17,
   "id": "30136cea-a002-4cde-8342-fcaa2064ee33",
   "metadata": {},
   "outputs": [],
   "source": [
    "var4=1"
   ]
  },
  {
   "cell_type": "code",
   "execution_count": 18,
   "id": "0bb535a2-a705-4598-a36d-b1a01b3265f0",
   "metadata": {},
   "outputs": [
    {
     "data": {
      "text/plain": [
       "int"
      ]
     },
     "execution_count": 18,
     "metadata": {},
     "output_type": "execute_result"
    }
   ],
   "source": [
    "type(var4)"
   ]
  },
  {
   "cell_type": "code",
   "execution_count": 19,
   "id": "86f1c6d4-f862-4cf1-a3c8-0b7e73b08eea",
   "metadata": {},
   "outputs": [],
   "source": [
    "#question 3 "
   ]
  },
  {
   "cell_type": "markdown",
   "id": "dd06c2a6-7cf0-4bb3-aab2-78dcefd225c1",
   "metadata": {},
   "source": [
    "use of / operator is"
   ]
  },
  {
   "cell_type": "code",
   "execution_count": 20,
   "id": "8e84c434-d443-4628-82ba-f2275273eae9",
   "metadata": {},
   "outputs": [
    {
     "data": {
      "text/plain": [
       "100.0"
      ]
     },
     "execution_count": 20,
     "metadata": {},
     "output_type": "execute_result"
    }
   ],
   "source": [
    "300/3     #devider operator"
   ]
  },
  {
   "cell_type": "markdown",
   "id": "afc86b2a-c8b1-4f04-8942-bfc0f9bfa1b7",
   "metadata": {},
   "source": [
    "use of % operator"
   ]
  },
  {
   "cell_type": "code",
   "execution_count": 21,
   "id": "7186054f-7e19-4c3b-b8a6-8998436e83e1",
   "metadata": {},
   "outputs": [
    {
     "data": {
      "text/plain": [
       "1"
      ]
     },
     "execution_count": 21,
     "metadata": {},
     "output_type": "execute_result"
    }
   ],
   "source": [
    "5%2  #remainder operator"
   ]
  },
  {
   "cell_type": "markdown",
   "id": "8be2ef0d-08f8-4763-80dc-b3cf24d26006",
   "metadata": {},
   "source": [
    "use of ** operator is"
   ]
  },
  {
   "cell_type": "code",
   "execution_count": 22,
   "id": "3f9b6418-7d1c-4f38-b1ce-5004521410f7",
   "metadata": {},
   "outputs": [
    {
     "data": {
      "text/plain": [
       "8"
      ]
     },
     "execution_count": 22,
     "metadata": {},
     "output_type": "execute_result"
    }
   ],
   "source": [
    "2**3   #power operator"
   ]
  },
  {
   "cell_type": "markdown",
   "id": "e04efa22-6cf4-459b-8e36-39b9d5855262",
   "metadata": {},
   "source": [
    "use of // operator is"
   ]
  },
  {
   "cell_type": "code",
   "execution_count": 23,
   "id": "a0094833-d96a-4210-b80f-120d36ac8f31",
   "metadata": {},
   "outputs": [
    {
     "data": {
      "text/plain": [
       "3"
      ]
     },
     "execution_count": 23,
     "metadata": {},
     "output_type": "execute_result"
    }
   ],
   "source": [
    "10//3   #floordivision operator"
   ]
  },
  {
   "cell_type": "code",
   "execution_count": null,
   "id": "d0c44739-0502-4fe4-8467-03eb16e763ab",
   "metadata": {},
   "outputs": [],
   "source": [
    "#question 4"
   ]
  },
  {
   "cell_type": "code",
   "execution_count": 24,
   "id": "3a388af4-e178-4c34-854e-598fa5bd9f72",
   "metadata": {},
   "outputs": [],
   "source": [
    "l=[14,15.37,\"soumyadeep\",True,7+4j,19,36,False,(\"avijit4202@gmail.com\",34),406]"
   ]
  },
  {
   "cell_type": "code",
   "execution_count": 25,
   "id": "adcbfa6e-80e1-4836-a2ba-e835853cbe39",
   "metadata": {},
   "outputs": [
    {
     "name": "stdout",
     "output_type": "stream",
     "text": [
      "14 <class 'int'>\n",
      "15.37 <class 'float'>\n",
      "soumyadeep <class 'str'>\n",
      "True <class 'bool'>\n",
      "(7+4j) <class 'complex'>\n",
      "19 <class 'int'>\n",
      "36 <class 'int'>\n",
      "False <class 'bool'>\n",
      "('avijit4202@gmail.com', 34) <class 'tuple'>\n",
      "406 <class 'int'>\n"
     ]
    }
   ],
   "source": [
    "for j in l:\n",
    "    print(j,type(j))\n",
    "    \n"
   ]
  },
  {
   "cell_type": "code",
   "execution_count": 26,
   "id": "85dbd733-d804-40b3-a92f-27c8c2c55aeb",
   "metadata": {},
   "outputs": [],
   "source": [
    "# question 7"
   ]
  },
  {
   "cell_type": "markdown",
   "id": "eebe9f0f-2daa-4ce9-a63f-8d0c5f36f59b",
   "metadata": {},
   "source": [
    "MUTABLE DATATYPE : This are the daya types which allows the users to do chenges in the valus even after the creation of the data type\n",
    "Ex: list is a mutable data type"
   ]
  },
  {
   "cell_type": "code",
   "execution_count": 27,
   "id": "69e42f62-e932-4739-ac7b-66817ad4b60e",
   "metadata": {},
   "outputs": [],
   "source": [
    "l=[4,5,6,7,'avijit',True]"
   ]
  },
  {
   "cell_type": "code",
   "execution_count": 28,
   "id": "032ba2af-025f-40a7-83de-188ca8b25175",
   "metadata": {},
   "outputs": [
    {
     "data": {
      "text/plain": [
       "list"
      ]
     },
     "execution_count": 28,
     "metadata": {},
     "output_type": "execute_result"
    }
   ],
   "source": [
    "type(l)"
   ]
  },
  {
   "cell_type": "code",
   "execution_count": 29,
   "id": "890f8f31-3537-41b2-ac5b-6c78d7db165a",
   "metadata": {},
   "outputs": [],
   "source": [
    "l[4]='souvik'"
   ]
  },
  {
   "cell_type": "code",
   "execution_count": 30,
   "id": "e034943e-6fbd-4d46-b9fd-9bef00b73ef9",
   "metadata": {},
   "outputs": [
    {
     "data": {
      "text/plain": [
       "[4, 5, 6, 7, 'souvik', True]"
      ]
     },
     "execution_count": 30,
     "metadata": {},
     "output_type": "execute_result"
    }
   ],
   "source": [
    "l"
   ]
  },
  {
   "cell_type": "markdown",
   "id": "73eea5f7-8c27-4ee9-966c-925c51b87b05",
   "metadata": {},
   "source": [
    "IMMUTABLE DATATYPE:This are the data type that if are created the the valus cant be modified\n",
    "Ex:int,float ,tuple,string etc."
   ]
  },
  {
   "cell_type": "code",
   "execution_count": 31,
   "id": "42fa9d5b-0a71-4f90-b2e6-b0f556a2a7be",
   "metadata": {},
   "outputs": [],
   "source": [
    "s='stars'\n"
   ]
  },
  {
   "cell_type": "code",
   "execution_count": 32,
   "id": "5294734c-a212-4d62-b9a6-d6f4339df977",
   "metadata": {},
   "outputs": [
    {
     "data": {
      "text/plain": [
       "str"
      ]
     },
     "execution_count": 32,
     "metadata": {},
     "output_type": "execute_result"
    }
   ],
   "source": [
    "type(s)"
   ]
  },
  {
   "cell_type": "code",
   "execution_count": 34,
   "id": "fb9c3d05-e044-43bc-804f-90e93c0cf8c5",
   "metadata": {
    "tags": []
   },
   "outputs": [
    {
     "ename": "NameError",
     "evalue": "name 'b' is not defined",
     "output_type": "error",
     "traceback": [
      "\u001b[0;31m---------------------------------------------------------------------------\u001b[0m",
      "\u001b[0;31mNameError\u001b[0m                                 Traceback (most recent call last)",
      "Cell \u001b[0;32mIn[34], line 1\u001b[0m\n\u001b[0;32m----> 1\u001b[0m s[\u001b[38;5;241m3\u001b[39m]\u001b[38;5;241m=\u001b[39m\u001b[43mb\u001b[49m\n",
      "\u001b[0;31mNameError\u001b[0m: name 'b' is not defined"
     ]
    }
   ],
   "source": [
    "s[3]=b\n",
    "\n",
    "\n"
   ]
  },
  {
   "cell_type": "code",
   "execution_count": null,
   "id": "f3888635-ad15-4289-92c5-b5f4e8db7a1d",
   "metadata": {},
   "outputs": [],
   "source": [
    "#question 5"
   ]
  },
  {
   "cell_type": "code",
   "execution_count": 36,
   "id": "8dcc5236-76e0-44a7-81d3-ee4f70f2b3fb",
   "metadata": {},
   "outputs": [
    {
     "name": "stdin",
     "output_type": "stream",
     "text": [
      "the value of A  215\n",
      "the value of B  4\n"
     ]
    },
    {
     "name": "stdout",
     "output_type": "stream",
     "text": [
      "A is not divisible by B\n"
     ]
    }
   ],
   "source": [
    "A=int(input(\"the value of A \"))\n",
    "B=int(input(\"the value of B \"))\n",
    "count=0\n",
    "if A%B==0 :\n",
    "    while A%B==0:\n",
    "        A=A/B\n",
    "        count+=1\n",
    "    print(f\"A is divisible by B {count}number of times\")\n",
    "else :\n",
    "      print(\"A is not divisible by B\")"
   ]
  },
  {
   "cell_type": "code",
   "execution_count": null,
   "id": "ef088cd4-037d-4a4c-bb11-4f7a247b60c5",
   "metadata": {},
   "outputs": [],
   "source": [
    "#question6"
   ]
  },
  {
   "cell_type": "code",
   "execution_count": 39,
   "id": "1f196e5d-568e-496b-95a0-46bfd597c7a3",
   "metadata": {},
   "outputs": [
    {
     "name": "stdout",
     "output_type": "stream",
     "text": [
      "the number which aredivisible by 3 are 9\n",
      "the number which aredivisible by 3 are 18\n",
      "the number which aredivisible by 3 are 54\n",
      "the number which aredivisible by 3 are 69\n",
      "the number which aredivisible by 3 are 75\n",
      "the number which aredivisible by 3 are 36\n",
      "the number which aredivisible by 3 are 42\n",
      "the number which aredivisible by 3 are 48\n",
      "the number which are not divisible by 3 are 59\n",
      "the number which are not divisible by 3 are 76\n",
      "the number which are not divisible by 3 are 140\n",
      "the number which are not divisible by 3 are 257\n",
      "the number which aredivisible by 3 are 285\n",
      "the number which are not divisible by 3 are 340\n",
      "the number which are not divisible by 3 are 1\n",
      "the number which are not divisible by 3 are 13\n",
      "the number which aredivisible by 3 are 39\n",
      "the number which are not divisible by 3 are 754\n",
      "the number which are not divisible by 3 are 401\n",
      "the number which are not divisible by 3 are 323\n",
      "the number which are not divisible by 3 are 251\n",
      "the number which are not divisible by 3 are 175\n",
      "the number which are not divisible by 3 are 1432\n",
      "the number which are not divisible by 3 are 1567\n",
      "the number which are not divisible by 3 are 1897\n"
     ]
    }
   ],
   "source": [
    "l=[9,18,54,69,75,36,42,48,59,76,140,257,285,340,1,13,39,754,401,323,251,175,1432,1567,1897]\n",
    "for j in l:\n",
    "    if j%3==0:\n",
    "        print(f\"the number which aredivisible by 3 are {j}\")\n",
    "    else :\n",
    "        print(f\"the number which are not divisible by 3 are {j}\")\n"
   ]
  }
 ],
 "metadata": {
  "kernelspec": {
   "display_name": "Python 3 (ipykernel)",
   "language": "python",
   "name": "python3"
  },
  "language_info": {
   "codemirror_mode": {
    "name": "ipython",
    "version": 3
   },
   "file_extension": ".py",
   "mimetype": "text/x-python",
   "name": "python",
   "nbconvert_exporter": "python",
   "pygments_lexer": "ipython3",
   "version": "3.10.8"
  }
 },
 "nbformat": 4,
 "nbformat_minor": 5
}
