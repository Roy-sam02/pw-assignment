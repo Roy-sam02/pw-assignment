{
 "cells": [
  {
   "cell_type": "markdown",
   "id": "65f62645-b0f1-452b-9737-0aeeebb29c69",
   "metadata": {},
   "source": [
    "Multithreading in Python refers to the ability of a program to execute multiple threads (smaller units of a process) concurrently within the same process. Each thread represents an independent sequence of instructions, and they share the same memory space. Multithreading allows the program to perform multiple tasks simultaneously, taking advantage of multi-core processors and improving overall performance and responsiveness.\n",
    "\n",
    "The main reasons for using multithreading in Python are:\n",
    "\n",
    "Concurrency: Multithreading enables the execution of multiple tasks at the same time, making it suitable for applications with parallelizable operations, such as I/O-bound tasks.\n",
    "\n",
    "Responsiveness: By delegating tasks to separate threads, the main program can remain responsive and handle user interactions while background tasks are being processed.\n",
    "\n",
    "Resource Utilization: It allows better utilization of system resources, particularly on multi-core CPUs, as multiple threads can be executed simultaneously.\n",
    "\n",
    "Python provides a built-in module called threading to handle threads. The threading module allows you to create, start, stop, and synchronize threads in a Python program"
   ]
  },
  {
   "cell_type": "code",
   "execution_count": 1,
   "id": "212d01fb-691f-4a31-b0d3-8dbb7b65ceba",
   "metadata": {},
   "outputs": [
    {
     "name": "stdout",
     "output_type": "stream",
     "text": [
      "workingthread-1 is executing\n",
      "workingthread-2 is executing\n",
      "MainThread is executing\n",
      "workingthread-1 is executingworkingthread-2 is executing\n",
      "\n",
      "all the threads are done\n"
     ]
    }
   ],
   "source": [
    "import threading\n",
    "import time\n",
    "def print_current_thread():\n",
    "    current_thread=threading.current_thread().name\n",
    "    print(f\"{current_thread} is executing\")\n",
    "def working_thread():\n",
    "    print_current_thread()\n",
    "    time.sleep(2)\n",
    "    print_current_thread()\n",
    "if __name__==\"__main__\":\n",
    "    threading1=threading.Thread(target=working_thread,name=\"workingthread-1\")\n",
    "    threading2=threading.Thread(target=working_thread,name=\"workingthread-2\")\n",
    "    threading1.start()\n",
    "    threading2.start()\n",
    "    print_current_thread()\n",
    "    threading1.join()\n",
    "    threading2.join()\n",
    "    print(\"all the threads are done\")"
   ]
  },
  {
   "cell_type": "code",
   "execution_count": 2,
   "id": "3fa46dcc-b850-4908-aea2-220e5a450575",
   "metadata": {},
   "outputs": [
    {
     "name": "stdout",
     "output_type": "stream",
     "text": [
      "the main thread is started\n",
      "threading-1 started\n",
      "threading-2 started\n",
      "threading-3 started\n"
     ]
    },
    {
     "name": "stderr",
     "output_type": "stream",
     "text": [
      "/tmp/ipykernel_1114/2383648163.py:4: DeprecationWarning: currentThread() is deprecated, use current_thread() instead\n",
      "  thread_name=threading.currentThread().name\n"
     ]
    },
    {
     "name": "stdout",
     "output_type": "stream",
     "text": [
      "threading-1 ended\n",
      "threading-3 ended\n",
      "threading-2 ended\n",
      "the main thread is ended\n",
      "total number of active thread (except the main thread)   7\n"
     ]
    },
    {
     "name": "stderr",
     "output_type": "stream",
     "text": [
      "/tmp/ipykernel_1114/2383648163.py:20: DeprecationWarning: activeCount() is deprecated, use active_count() instead\n",
      "  number_of_thread=threading.activeCount()-1\n"
     ]
    }
   ],
   "source": [
    "import time\n",
    "import threading\n",
    "def working():\n",
    "    thread_name=threading.currentThread().name\n",
    "    print(f\"{thread_name} started\")\n",
    "    time.sleep(3)\n",
    "    print(f\"{thread_name} ended\")\n",
    "if __name__==\"__main__\":\n",
    "    print(\"the main thread is started\")\n",
    "    threading1=threading.Thread(target=working,name=\"threading-1\")\n",
    "    threading2=threading.Thread(target=working,name=\"threading-2\")\n",
    "    threading3=threading.Thread(target=working,name=\"threading-3\")\n",
    "    threading1.start()\n",
    "    threading2.start()\n",
    "    threading3.start()\n",
    "    threading1.join()\n",
    "    threading2.join()\n",
    "    threading3.join()\n",
    "    print(\"the main thread is ended\")\n",
    "    number_of_thread=threading.activeCount()-1\n",
    "    print(\"total number of active thread (except the main thread)  \",number_of_thread)"
   ]
  },
  {
   "cell_type": "code",
   "execution_count": null,
   "id": "ce318dab-1212-47d3-ba12-bb02f3787f61",
   "metadata": {},
   "outputs": [
    {
     "name": "stdout",
     "output_type": "stream",
     "text": [
      "thread 1 : 1\n",
      "thread 2  :A\n"
     ]
    },
    {
     "name": "stderr",
     "output_type": "stream",
     "text": [
      "/tmp/ipykernel_1114/955853282.py:19: DeprecationWarning: currentThread() is deprecated, use current_thread() instead\n",
      "  if thread!= threading.currentThread():\n"
     ]
    },
    {
     "name": "stdout",
     "output_type": "stream",
     "text": [
      "thread 1 : 2thread 2  :B\n",
      "\n",
      "thread 2  :Cthread 1 : 3\n",
      "\n",
      "thread 1 : 4thread 2  :D\n",
      "\n",
      "thread 2  :E\n",
      "thread 1 : 5\n",
      "thread 2  :F\n",
      "thread 1 : 6\n"
     ]
    }
   ],
   "source": [
    "import time\n",
    "import threading\n",
    "def Print_number():\n",
    "    for i in range(1,7):\n",
    "        print(f\"thread 1 : {i}\")\n",
    "        time.sleep(1)\n",
    "def print_alphabet():\n",
    "    for i in 'ABCDEF':\n",
    "        print(f\"thread 2  :{i}\")\n",
    "        time.sleep(1)\n",
    "if __name__==\"__main__\":\n",
    "    thread1=threading.Thread(target=Print_number,name=\"Thread1\")\n",
    "    thread2=threading.Thread(target=print_alphabet,name=\"Thread2\")\n",
    "    thread1.start()\n",
    "    thread2.start()\n",
    "    all_threads=threading.enumerate()\n",
    "    \n",
    "    for thread in all_threads:\n",
    "        if thread!= threading.currentThread():\n",
    "            thread.join()\n",
    "        \n",
    "    "
   ]
  },
  {
   "cell_type": "markdown",
   "id": "8b6b3f4b-7a0a-4abb-80a8-dd0b2877c68f",
   "metadata": {},
   "source": [
    "3. Explain the following functions\n",
    "( run\n",
    " start\n",
    " join\n",
    "' isAlive)"
   ]
  },
  {
   "cell_type": "markdown",
   "id": "c7d03ae7-90ef-485e-8754-e397a589a1c4",
   "metadata": {},
   "source": [
    "run:\n",
    "The run method is part of the Thread class in Python's threading module. It represents the entry point for the thread's activity. When you create a custom thread by subclassing Thread, you typically override the run method with the specific code you want the thread to execute."
   ]
  },
  {
   "cell_type": "code",
   "execution_count": 1,
   "id": "77aac8cc-c564-489a-b723-38c397bcb1a5",
   "metadata": {},
   "outputs": [
    {
     "name": "stdout",
     "output_type": "stream",
     "text": [
      "This is the custom code that will be executed in the thread.\n"
     ]
    }
   ],
   "source": [
    "import threading\n",
    "\n",
    "class MyThread(threading.Thread):\n",
    "    def run(self):\n",
    "        print(\"This is the custom code that will be executed in the thread.\")\n",
    "\n",
    "# Creating and starting the custom thread\n",
    "my_thread = MyThread()\n",
    "my_thread.start()\n"
   ]
  },
  {
   "cell_type": "markdown",
   "id": "7f0e16c8-b24f-4e3f-b3b1-cc6d2063f9b7",
   "metadata": {},
   "source": [
    "start:\n",
    "The start method is used to start the execution of a thread. It schedules the thread to run its run method in a separate thread of control. When the start method is called, the target function (defined in the Thread subclass or passed as a target parameter) is executed concurrently in the new thread."
   ]
  },
  {
   "cell_type": "code",
   "execution_count": 2,
   "id": "74aa7342-c54f-4ce8-ba03-da6a6c20cbf3",
   "metadata": {},
   "outputs": [
    {
     "name": "stdout",
     "output_type": "stream",
     "text": [
      "this is the target function of the thread\n"
     ]
    }
   ],
   "source": [
    "import threading\n",
    "def my_function():\n",
    "    print(\"this is the target function of the thread\")\n",
    "my_thread=threading.Thread(target=my_function)\n",
    "my_thread.start()"
   ]
  },
  {
   "cell_type": "markdown",
   "id": "49374a69-feb3-4abb-880f-e93a3ed15f7a",
   "metadata": {},
   "source": [
    "join:\n",
    "The join method is used to wait for a thread to complete its execution. When you call join on a thread, the calling thread (usually the main thread) will pause and wait until the target thread (the thread you called join on) finishes executing."
   ]
  },
  {
   "cell_type": "code",
   "execution_count": 3,
   "id": "5915eaf2-21a2-48de-8cad-683ee6ffe0ed",
   "metadata": {},
   "outputs": [
    {
     "name": "stdout",
     "output_type": "stream",
     "text": [
      "This is the target function of the thread.\n",
      "Thread execution has completed.\n"
     ]
    }
   ],
   "source": [
    "import threading\n",
    "\n",
    "def my_function():\n",
    "    print(\"This is the target function of the thread.\")\n",
    "\n",
    "# Creating and starting the thread\n",
    "my_thread = threading.Thread(target=my_function)\n",
    "my_thread.start()\n",
    "\n",
    "# Main thread will wait for the my_thread to complete\n",
    "my_thread.join()\n",
    "\n",
    "print(\"Thread execution has completed.\")  # this print statement is the part of main thread\n"
   ]
  },
  {
   "cell_type": "markdown",
   "id": "64f4aac9-b4d2-44ff-963e-1880ecf25f2b",
   "metadata": {},
   "source": [
    "isAlive:\n",
    "The isAlive method is used to check if a thread is still running or has completed its execution. It returns True if the thread is still active (running) and False if the thread has completed or has not started yet.\n"
   ]
  },
  {
   "cell_type": "code",
   "execution_count": 10,
   "id": "1a694255-1bd4-4395-a605-2f7152a4f1ca",
   "metadata": {},
   "outputs": [
    {
     "name": "stdout",
     "output_type": "stream",
     "text": [
      "the thread is executing\n",
      "Is my thread is alive? True\n",
      "the thred is finished\n",
      "Is my thread is alive? False\n"
     ]
    }
   ],
   "source": [
    "import threading\n",
    "import time\n",
    "def my_function():\n",
    "    print(\"the thread is executing\")\n",
    "    time.sleep(3)\n",
    "    print(\"the thred is finished\")\n",
    "my_thread=threading.Thread(target=my_function)\n",
    "my_thread.start()\n",
    "\n",
    "print(\"Is my thread is alive?\",my_thread.is_alive())\n",
    "my_thread.join()\n",
    "print(\"Is my thread is alive?\",my_thread.is_alive())"
   ]
  },
  {
   "cell_type": "code",
   "execution_count": 11,
   "id": "0bc90429-6be8-4b24-a022-ccd273e651b2",
   "metadata": {},
   "outputs": [
    {
     "name": "stdout",
     "output_type": "stream",
     "text": [
      "[1, 4, 9, 16, 25, 36, 49, 64, 81, 100]\n",
      "[1, 8, 27, 64, 125, 216, 343, 512, 729, 1000]\n",
      "all the threads are done\n"
     ]
    }
   ],
   "source": [
    "import time\n",
    "import threading\n",
    "def squre_function():\n",
    "    squre=[x**2 for x in range (1,11)]\n",
    "    print(squre)\n",
    "def cube_function():\n",
    "    cube=[x**3 for x in range (1,11)]\n",
    "    print(cube)\n",
    "thread1=threading.Thread(target=squre_function)\n",
    "thread2=threading.Thread(target=cube_function)\n",
    "thread1.start()\n",
    "thread2.start()\n",
    "thread1.join()\n",
    "thread2.join()\n",
    "print(\"all the threads are done\")\n",
    "    "
   ]
  },
  {
   "cell_type": "markdown",
   "id": "6da3550c-1c21-4d2e-a718-993b2b42671f",
   "metadata": {},
   "source": [
    "Advantages of Multithreading:\n",
    "\n",
    "Concurrency and Responsiveness: Multithreading allows a program to perform multiple tasks simultaneously. This can significantly improve the responsiveness of applications, especially in scenarios where certain tasks are time-consuming (e.g., I/O operations) and can be executed independently.\n",
    "\n",
    "Resource Sharing: Threads within the same process share the same resources (memory space, file descriptors, etc.). This enables efficient communication and data sharing between threads, reducing the need for inter-process communication (IPC).\n",
    "\n",
    "Faster Execution: In CPU-bound tasks, where a program needs to perform complex calculations or computations, multithreading can utilize multiple CPU cores, leading to faster execution and improved performance.\n",
    "\n",
    "Modularity and Maintainability: Multithreading allows you to modularize your code into separate tasks, making it easier to manage and maintain compared to monolithic programs.\n",
    "\n",
    "Scalability: Multithreading allows you to scale your application to take advantage of modern multi-core processors, effectively utilizing the available hardware resources.\n",
    "\n",
    "Disadvantages of Multithreading:\n",
    "\n",
    "Complexity and Bugs: Multithreaded programs are inherently more complex than single-threaded ones, making them prone to issues like race conditions, deadlocks, and thread synchronization bugs. Debugging and testing multithreaded code can be challenging.\n",
    "\n",
    "Resource Contentions: When multiple threads share resources like data structures or files, contention for these resources can lead to performance bottlenecks and decreased efficiency.\n",
    "\n",
    "Increased Memory Usage: Each thread requires its own stack space, and having many threads can consume significant amounts of memory, potentially affecting the overall memory usage of the application.\n",
    "\n",
    "Synchronization Overhead: To ensure proper data integrity, threads often need to be synchronized using locks or other synchronization mechanisms. This overhead can sometimes offset the benefits of multithreading.\n",
    "\n",
    "Portability and Platform Dependency: Multithreading implementations and behavior can vary across different operating systems and platforms. Writing portable multithreaded code requires careful consideration and sometimes platform-specific adjustments.\n",
    "\n"
   ]
  },
  {
   "cell_type": "markdown",
   "id": "18a54fa3-7b97-4e87-993c-45fb850384d3",
   "metadata": {},
   "source": [
    "Deadlock is a specific type of concurrency-related issue that occurs in multithreaded or multiprocess environments. It happens when two or more threads or processes are unable to proceed with their execution because each is waiting for the other to release a resource or complete a task. As a result, the threads remain blocked indefinitely, causing the entire program or system to become unresponsive.\n",
    "Consider two threads (T1 and T2) with access to two resources (R1 and R2). If T1 holds R1 and waits for R2, while T2 holds R2 and waits for R1, a deadlock occurs. Both threads are unable to proceed, resulting in a deadlock situation.\n",
    "\n"
   ]
  },
  {
   "cell_type": "markdown",
   "id": "cd94eae6-77ba-4c44-bc76-5b31467cc403",
   "metadata": {},
   "source": [
    "A race condition is a phenomenon that arises when the behavior of a program depends on the relative timing of events, particularly in concurrent systems. It occurs when multiple threads or processes access shared resources or variables in an uncontrolled manner, leading to unpredictable outcomes.\n",
    "\n",
    "Race conditions can lead to unexpected and incorrect behavior because the outcome of the program becomes dependent on the specific order in which threads or processes are scheduled to execute. The result of a race condition is non-deterministic, meaning it may vary from one execution to another.\n",
    "\n",
    "Example:\n",
    "Consider two threads (T1 and T2) that share a variable count and increment it simultaneously. If both threads read the value of count (e.g., 5) at the same time, increment it, and then store the result back to count, there's a possibility of a race condition. For instance, both threads read count as 5, increment it to 6, and then store it back. In such a case, the count will only be incremented by 1, although both threads attempted to increment it."
   ]
  },
  {
   "cell_type": "code",
   "execution_count": null,
   "id": "af6efad7-0ed7-44a8-a632-dc5001cf3ac4",
   "metadata": {},
   "outputs": [],
   "source": []
  }
 ],
 "metadata": {
  "kernelspec": {
   "display_name": "Python 3 (ipykernel)",
   "language": "python",
   "name": "python3"
  },
  "language_info": {
   "codemirror_mode": {
    "name": "ipython",
    "version": 3
   },
   "file_extension": ".py",
   "mimetype": "text/x-python",
   "name": "python",
   "nbconvert_exporter": "python",
   "pygments_lexer": "ipython3",
   "version": "3.10.8"
  }
 },
 "nbformat": 4,
 "nbformat_minor": 5
}
